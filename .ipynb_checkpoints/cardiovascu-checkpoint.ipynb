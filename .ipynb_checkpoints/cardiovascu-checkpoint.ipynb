{
 "cells": [
  {
   "cell_type": "markdown",
   "id": "2d12c0df",
   "metadata": {},
   "source": [
    "# Importing Different Packages Needed For The Project"
   ]
  },
  {
   "cell_type": "code",
   "execution_count": 1,
   "id": "0cb301aa",
   "metadata": {},
   "outputs": [],
   "source": [
    "import pandas as pd\n",
    "import numpy as np\n",
    "import matplotlib.pyplot as plt\n",
    "%matplotlib inline\n",
    "import seaborn as sns\n",
    "# plt.rcParams['figure.figsize'] = (12, 12)\n",
    "from sklearn.preprocessing import LabelEncoder, OneHotEncoder\n",
    "from sklearn.preprocessing import StandardScaler\n",
    "from sklearn.model_selection import train_test_split, GridSearchCV\n",
    "from sklearn.metrics import accuracy_score\n",
    "from sklearn.linear_model import LogisticRegression\n",
    "from sklearn.ensemble import RandomForestClassifier\n",
    "from sklearn.tree import DecisionTreeClassifier \n",
    "from sklearn.naive_bayes import GaussianNB\n",
    "from sklearn import svm\n",
    "from sklearn.neighbors import KNeighborsClassifier\n",
    "import warnings\n",
    "warnings.filterwarnings('ignore')"
   ]
  },
  {
   "cell_type": "markdown",
   "id": "cd3079d8",
   "metadata": {},
   "source": [
    "# importing Data"
   ]
  },
  {
   "cell_type": "code",
   "execution_count": 2,
   "id": "1d052927",
   "metadata": {},
   "outputs": [
    {
     "data": {
      "text/plain": [
       "pandas.core.frame.DataFrame"
      ]
     },
     "execution_count": 2,
     "metadata": {},
     "output_type": "execute_result"
    }
   ],
   "source": [
    "# Load the data\n",
    "data = pd.read_csv(\"cardio_train.csv\", delimiter=';')\n",
    "type(data)"
   ]
  },
  {
   "cell_type": "code",
   "execution_count": 3,
   "id": "58d535fa",
   "metadata": {},
   "outputs": [
    {
     "data": {
      "text/html": [
       "<div>\n",
       "<style scoped>\n",
       "    .dataframe tbody tr th:only-of-type {\n",
       "        vertical-align: middle;\n",
       "    }\n",
       "\n",
       "    .dataframe tbody tr th {\n",
       "        vertical-align: top;\n",
       "    }\n",
       "\n",
       "    .dataframe thead th {\n",
       "        text-align: right;\n",
       "    }\n",
       "</style>\n",
       "<table border=\"1\" class=\"dataframe\">\n",
       "  <thead>\n",
       "    <tr style=\"text-align: right;\">\n",
       "      <th></th>\n",
       "      <th>id</th>\n",
       "      <th>age</th>\n",
       "      <th>gender</th>\n",
       "      <th>height</th>\n",
       "      <th>weight</th>\n",
       "      <th>ap_hi</th>\n",
       "      <th>ap_lo</th>\n",
       "      <th>cholesterol</th>\n",
       "      <th>gluc</th>\n",
       "      <th>smoke</th>\n",
       "      <th>alco</th>\n",
       "      <th>active</th>\n",
       "      <th>cardio</th>\n",
       "    </tr>\n",
       "  </thead>\n",
       "  <tbody>\n",
       "    <tr>\n",
       "      <th>3806</th>\n",
       "      <td>5391</td>\n",
       "      <td>20336</td>\n",
       "      <td>1</td>\n",
       "      <td>165</td>\n",
       "      <td>106.0</td>\n",
       "      <td>160</td>\n",
       "      <td>100</td>\n",
       "      <td>1</td>\n",
       "      <td>1</td>\n",
       "      <td>0</td>\n",
       "      <td>0</td>\n",
       "      <td>0</td>\n",
       "      <td>1</td>\n",
       "    </tr>\n",
       "    <tr>\n",
       "      <th>1145</th>\n",
       "      <td>1588</td>\n",
       "      <td>15298</td>\n",
       "      <td>1</td>\n",
       "      <td>167</td>\n",
       "      <td>84.0</td>\n",
       "      <td>100</td>\n",
       "      <td>70</td>\n",
       "      <td>2</td>\n",
       "      <td>1</td>\n",
       "      <td>0</td>\n",
       "      <td>0</td>\n",
       "      <td>1</td>\n",
       "      <td>0</td>\n",
       "    </tr>\n",
       "    <tr>\n",
       "      <th>4252</th>\n",
       "      <td>6002</td>\n",
       "      <td>17499</td>\n",
       "      <td>2</td>\n",
       "      <td>178</td>\n",
       "      <td>104.0</td>\n",
       "      <td>120</td>\n",
       "      <td>80</td>\n",
       "      <td>1</td>\n",
       "      <td>1</td>\n",
       "      <td>0</td>\n",
       "      <td>0</td>\n",
       "      <td>1</td>\n",
       "      <td>0</td>\n",
       "    </tr>\n",
       "    <tr>\n",
       "      <th>1559</th>\n",
       "      <td>2206</td>\n",
       "      <td>17317</td>\n",
       "      <td>2</td>\n",
       "      <td>165</td>\n",
       "      <td>70.0</td>\n",
       "      <td>160</td>\n",
       "      <td>90</td>\n",
       "      <td>1</td>\n",
       "      <td>1</td>\n",
       "      <td>0</td>\n",
       "      <td>0</td>\n",
       "      <td>1</td>\n",
       "      <td>1</td>\n",
       "    </tr>\n",
       "    <tr>\n",
       "      <th>1515</th>\n",
       "      <td>2139</td>\n",
       "      <td>23094</td>\n",
       "      <td>1</td>\n",
       "      <td>164</td>\n",
       "      <td>102.0</td>\n",
       "      <td>150</td>\n",
       "      <td>90</td>\n",
       "      <td>2</td>\n",
       "      <td>1</td>\n",
       "      <td>0</td>\n",
       "      <td>0</td>\n",
       "      <td>1</td>\n",
       "      <td>1</td>\n",
       "    </tr>\n",
       "  </tbody>\n",
       "</table>\n",
       "</div>"
      ],
      "text/plain": [
       "        id    age  gender  height  weight  ap_hi  ap_lo  cholesterol  gluc  \\\n",
       "3806  5391  20336       1     165   106.0    160    100            1     1   \n",
       "1145  1588  15298       1     167    84.0    100     70            2     1   \n",
       "4252  6002  17499       2     178   104.0    120     80            1     1   \n",
       "1559  2206  17317       2     165    70.0    160     90            1     1   \n",
       "1515  2139  23094       1     164   102.0    150     90            2     1   \n",
       "\n",
       "      smoke  alco  active  cardio  \n",
       "3806      0     0       0       1  \n",
       "1145      0     0       1       0  \n",
       "4252      0     0       1       0  \n",
       "1559      0     0       1       1  \n",
       "1515      0     0       1       1  "
      ]
     },
     "execution_count": 3,
     "metadata": {},
     "output_type": "execute_result"
    }
   ],
   "source": [
    "data.sample(5)"
   ]
  },
  {
   "cell_type": "code",
   "execution_count": 4,
   "id": "8d4795ad",
   "metadata": {},
   "outputs": [
    {
     "data": {
      "text/plain": [
       "(4584, 13)"
      ]
     },
     "execution_count": 4,
     "metadata": {},
     "output_type": "execute_result"
    }
   ],
   "source": [
    "data.shape"
   ]
  },
  {
   "cell_type": "markdown",
   "id": "21cc1aba",
   "metadata": {},
   "source": [
    "## cleaning and understanding our dataset"
   ]
  },
  {
   "cell_type": "code",
   "execution_count": 5,
   "id": "91a9a1eb",
   "metadata": {},
   "outputs": [
    {
     "name": "stdout",
     "output_type": "stream",
     "text": [
      "[1 3 2]\n"
     ]
    },
    {
     "data": {
      "text/plain": [
       "2"
      ]
     },
     "execution_count": 5,
     "metadata": {},
     "output_type": "execute_result"
    }
   ],
   "source": [
    "print(data['cholesterol'].unique())\n",
    "data['cardio'].nunique()"
   ]
  },
  {
   "cell_type": "code",
   "execution_count": 6,
   "id": "c27efc0b",
   "metadata": {},
   "outputs": [
    {
     "data": {
      "text/plain": [
       "id             4584\n",
       "age            3222\n",
       "gender            2\n",
       "height           61\n",
       "weight          117\n",
       "ap_hi            63\n",
       "ap_lo            58\n",
       "cholesterol       3\n",
       "gluc              3\n",
       "smoke             2\n",
       "alco              2\n",
       "active            2\n",
       "cardio            2\n",
       "dtype: int64"
      ]
     },
     "execution_count": 6,
     "metadata": {},
     "output_type": "execute_result"
    }
   ],
   "source": [
    "data.nunique()"
   ]
  },
  {
   "cell_type": "markdown",
   "id": "8d4082ab",
   "metadata": {},
   "source": [
    "### unique values are mainly high in columns age,height,weight,ap_hi,ap_lo"
   ]
  },
  {
   "cell_type": "code",
   "execution_count": 7,
   "id": "5838c96c",
   "metadata": {},
   "outputs": [],
   "source": [
    "#lets drop id as it is not relavent\n",
    "data.drop(\"id\",axis=1,inplace=True)\n"
   ]
  },
  {
   "cell_type": "code",
   "execution_count": 8,
   "id": "de477c5a",
   "metadata": {},
   "outputs": [
    {
     "data": {
      "text/html": [
       "<div>\n",
       "<style scoped>\n",
       "    .dataframe tbody tr th:only-of-type {\n",
       "        vertical-align: middle;\n",
       "    }\n",
       "\n",
       "    .dataframe tbody tr th {\n",
       "        vertical-align: top;\n",
       "    }\n",
       "\n",
       "    .dataframe thead th {\n",
       "        text-align: right;\n",
       "    }\n",
       "</style>\n",
       "<table border=\"1\" class=\"dataframe\">\n",
       "  <thead>\n",
       "    <tr style=\"text-align: right;\">\n",
       "      <th></th>\n",
       "      <th>age</th>\n",
       "      <th>gender</th>\n",
       "      <th>height</th>\n",
       "      <th>weight</th>\n",
       "      <th>ap_hi</th>\n",
       "      <th>ap_lo</th>\n",
       "      <th>cholesterol</th>\n",
       "      <th>gluc</th>\n",
       "      <th>smoke</th>\n",
       "      <th>alco</th>\n",
       "      <th>active</th>\n",
       "      <th>cardio</th>\n",
       "    </tr>\n",
       "  </thead>\n",
       "  <tbody>\n",
       "    <tr>\n",
       "      <th>0</th>\n",
       "      <td>50</td>\n",
       "      <td>2</td>\n",
       "      <td>168</td>\n",
       "      <td>62.0</td>\n",
       "      <td>110</td>\n",
       "      <td>80</td>\n",
       "      <td>1</td>\n",
       "      <td>1</td>\n",
       "      <td>0</td>\n",
       "      <td>0</td>\n",
       "      <td>1</td>\n",
       "      <td>0</td>\n",
       "    </tr>\n",
       "    <tr>\n",
       "      <th>1</th>\n",
       "      <td>55</td>\n",
       "      <td>1</td>\n",
       "      <td>156</td>\n",
       "      <td>85.0</td>\n",
       "      <td>140</td>\n",
       "      <td>90</td>\n",
       "      <td>3</td>\n",
       "      <td>1</td>\n",
       "      <td>0</td>\n",
       "      <td>0</td>\n",
       "      <td>1</td>\n",
       "      <td>1</td>\n",
       "    </tr>\n",
       "    <tr>\n",
       "      <th>2</th>\n",
       "      <td>52</td>\n",
       "      <td>1</td>\n",
       "      <td>165</td>\n",
       "      <td>64.0</td>\n",
       "      <td>130</td>\n",
       "      <td>70</td>\n",
       "      <td>3</td>\n",
       "      <td>1</td>\n",
       "      <td>0</td>\n",
       "      <td>0</td>\n",
       "      <td>0</td>\n",
       "      <td>1</td>\n",
       "    </tr>\n",
       "    <tr>\n",
       "      <th>3</th>\n",
       "      <td>48</td>\n",
       "      <td>2</td>\n",
       "      <td>169</td>\n",
       "      <td>82.0</td>\n",
       "      <td>150</td>\n",
       "      <td>100</td>\n",
       "      <td>1</td>\n",
       "      <td>1</td>\n",
       "      <td>0</td>\n",
       "      <td>0</td>\n",
       "      <td>1</td>\n",
       "      <td>1</td>\n",
       "    </tr>\n",
       "    <tr>\n",
       "      <th>4</th>\n",
       "      <td>48</td>\n",
       "      <td>1</td>\n",
       "      <td>156</td>\n",
       "      <td>56.0</td>\n",
       "      <td>100</td>\n",
       "      <td>60</td>\n",
       "      <td>1</td>\n",
       "      <td>1</td>\n",
       "      <td>0</td>\n",
       "      <td>0</td>\n",
       "      <td>0</td>\n",
       "      <td>0</td>\n",
       "    </tr>\n",
       "  </tbody>\n",
       "</table>\n",
       "</div>"
      ],
      "text/plain": [
       "   age  gender  height  weight  ap_hi  ap_lo  cholesterol  gluc  smoke  alco  \\\n",
       "0   50       2     168    62.0    110     80            1     1      0     0   \n",
       "1   55       1     156    85.0    140     90            3     1      0     0   \n",
       "2   52       1     165    64.0    130     70            3     1      0     0   \n",
       "3   48       2     169    82.0    150    100            1     1      0     0   \n",
       "4   48       1     156    56.0    100     60            1     1      0     0   \n",
       "\n",
       "   active  cardio  \n",
       "0       1       0  \n",
       "1       1       1  \n",
       "2       0       1  \n",
       "3       1       1  \n",
       "4       0       0  "
      ]
     },
     "execution_count": 8,
     "metadata": {},
     "output_type": "execute_result"
    }
   ],
   "source": [
    "# Convert age from days to years\n",
    "data['age'] = (data['age'] / 365).round().astype(int)\n",
    "data.head(5)"
   ]
  },
  {
   "cell_type": "markdown",
   "id": "33805bd7",
   "metadata": {},
   "source": [
    "### later we will deal with numerical values in height,weight,ap_hi,ap_lo columns"
   ]
  },
  {
   "cell_type": "code",
   "execution_count": 9,
   "id": "c966d309",
   "metadata": {},
   "outputs": [
    {
     "data": {
      "text/plain": [
       "17"
      ]
     },
     "execution_count": 9,
     "metadata": {},
     "output_type": "execute_result"
    }
   ],
   "source": [
    "data.duplicated().sum()"
   ]
  },
  {
   "cell_type": "code",
   "execution_count": 10,
   "id": "998e1ff3",
   "metadata": {},
   "outputs": [],
   "source": [
    "data.drop_duplicates(inplace=True)"
   ]
  },
  {
   "cell_type": "code",
   "execution_count": 11,
   "id": "ac0ea66f",
   "metadata": {},
   "outputs": [
    {
     "name": "stdout",
     "output_type": "stream",
     "text": [
      "age:\t\t\tage in days\n",
      "gender:\t\t\tGender | 1: female, 2: male\n",
      "height:\t\t\tHeight-(cm)\n",
      "weight:\t\t\tWeight-(kg)\n",
      "ap_hi:\t\t\tSystolic blood pressure-(norm:120 hg)\n",
      "ap_lo:\t\t\tDiastolic blood pressure-(norm:80 hg)\n",
      "cholesterol:\t\t\tCholesterol | type-1: normal, 2: above normal, 3: well above normal|\n",
      "gluc:\t\t\tGlucose | type-- 1: normal, 2: above normal, 3: well above normal |\n",
      "smoke:\t\t\tSmoking |type- 0: do 1: dont do\n",
      "alco:\t\t\tAlcohol intake|type- 0: do 1: dont do \n",
      "active:\t\t\tPhysical activity |type- 0: do 1: dont do\n",
      "cardio:\t\t\tPresence or absence of cardiovascular disease\n"
     ]
    }
   ],
   "source": [
    "info = [\"age in days\",\"Gender | 1: female, 2: male\",\"Height-(cm)\",\"Weight-(kg)\",\"Systolic blood pressure-(norm:120 hg)\",\"Diastolic blood pressure-(norm:80 hg)\",\"Cholesterol | type-1: normal, 2: above normal, 3: well above normal|\",\"Glucose | type-- 1: normal, 2: above normal, 3: well above normal |\",\"Smoking |type- 0: do 1: dont do\",\"Alcohol intake|type- 0: do 1: dont do \",\"Physical activity |type- 0: do 1: dont do\",\"Presence or absence of cardiovascular disease\"]\n",
    "\n",
    "\n",
    "\n",
    "for i in range(len(info)):\n",
    "    print(data.columns[i]+\":\\t\\t\\t\"+info[i])"
   ]
  },
  {
   "cell_type": "code",
   "execution_count": 12,
   "id": "d4efbf93",
   "metadata": {},
   "outputs": [
    {
     "name": "stdout",
     "output_type": "stream",
     "text": [
      "<class 'pandas.core.frame.DataFrame'>\n",
      "Int64Index: 4567 entries, 0 to 4583\n",
      "Data columns (total 12 columns):\n",
      " #   Column       Non-Null Count  Dtype  \n",
      "---  ------       --------------  -----  \n",
      " 0   age          4567 non-null   int32  \n",
      " 1   gender       4567 non-null   int64  \n",
      " 2   height       4567 non-null   int64  \n",
      " 3   weight       4567 non-null   float64\n",
      " 4   ap_hi        4567 non-null   int64  \n",
      " 5   ap_lo        4567 non-null   int64  \n",
      " 6   cholesterol  4567 non-null   int64  \n",
      " 7   gluc         4567 non-null   int64  \n",
      " 8   smoke        4567 non-null   int64  \n",
      " 9   alco         4567 non-null   int64  \n",
      " 10  active       4567 non-null   int64  \n",
      " 11  cardio       4567 non-null   int64  \n",
      "dtypes: float64(1), int32(1), int64(10)\n",
      "memory usage: 446.0 KB\n"
     ]
    }
   ],
   "source": [
    "data.info()"
   ]
  },
  {
   "cell_type": "code",
   "execution_count": 13,
   "id": "1e6760df",
   "metadata": {},
   "outputs": [
    {
     "data": {
      "text/plain": [
       "age            0\n",
       "gender         0\n",
       "height         0\n",
       "weight         0\n",
       "ap_hi          0\n",
       "ap_lo          0\n",
       "cholesterol    0\n",
       "gluc           0\n",
       "smoke          0\n",
       "alco           0\n",
       "active         0\n",
       "cardio         0\n",
       "dtype: int64"
      ]
     },
     "execution_count": 13,
     "metadata": {},
     "output_type": "execute_result"
    }
   ],
   "source": [
    "data.isnull().sum()"
   ]
  },
  {
   "cell_type": "markdown",
   "id": "c20588b7",
   "metadata": {},
   "source": [
    "# thankfuly no nan values"
   ]
  },
  {
   "cell_type": "code",
   "execution_count": 14,
   "id": "c44b6bb4",
   "metadata": {},
   "outputs": [
    {
     "data": {
      "text/plain": [
       "27"
      ]
     },
     "execution_count": 14,
     "metadata": {},
     "output_type": "execute_result"
    }
   ],
   "source": [
    "data['age'].nunique()"
   ]
  },
  {
   "cell_type": "code",
   "execution_count": 15,
   "id": "1d8845fb",
   "metadata": {},
   "outputs": [
    {
     "data": {
      "text/plain": [
       "1    3402\n",
       "2     623\n",
       "3     542\n",
       "Name: cholesterol, dtype: int64"
      ]
     },
     "execution_count": 15,
     "metadata": {},
     "output_type": "execute_result"
    }
   ],
   "source": [
    "data['cholesterol'].value_counts()"
   ]
  },
  {
   "cell_type": "code",
   "execution_count": 16,
   "id": "214c8529",
   "metadata": {},
   "outputs": [
    {
     "data": {
      "text/plain": [
       "1    3859\n",
       "3     358\n",
       "2     350\n",
       "Name: gluc, dtype: int64"
      ]
     },
     "execution_count": 16,
     "metadata": {},
     "output_type": "execute_result"
    }
   ],
   "source": [
    "data['gluc'].value_counts()"
   ]
  },
  {
   "cell_type": "code",
   "execution_count": 17,
   "id": "0e63dd23",
   "metadata": {},
   "outputs": [],
   "source": [
    "data[\"bmi\"] = data[\"weight\"] / (data[\"height\"]/100)**2"
   ]
  },
  {
   "cell_type": "code",
   "execution_count": 18,
   "id": "74f89c9b",
   "metadata": {},
   "outputs": [],
   "source": [
    "data.drop([\"weight\",\"height\"],axis=1,inplace=True)"
   ]
  },
  {
   "cell_type": "markdown",
   "id": "ec4fff68",
   "metadata": {},
   "source": [
    "### check for outliers"
   ]
  },
  {
   "cell_type": "code",
   "execution_count": 19,
   "id": "25c4635c",
   "metadata": {
    "scrolled": true
   },
   "outputs": [
    {
     "data": {
      "text/plain": [
       "<Figure size 9360x5760 with 0 Axes>"
      ]
     },
     "metadata": {},
     "output_type": "display_data"
    },
    {
     "data": {
      "image/png": "[encoded data removed]",
      "text/plain": [
       "<Figure size 640x480 with 1 Axes>"
      ]
     },
     "metadata": {},
     "output_type": "display_data"
    }
   ],
   "source": [
    "plt.figure(num=None, figsize=(10.4, 6.4), dpi=900, facecolor='w', edgecolor='k')\n",
    "data.plot(kind='box')\n",
    "plt.axis(xmin=0,xmax=14,ymin=1,ymax=200)\n",
    "plt.show();"
   ]
  },
  {
   "cell_type": "markdown",
   "id": "353a5561",
   "metadata": {},
   "source": [
    "### In  some cases diastolic pressure is higher than systolic, which is  incorrect. How many records are inaccurate in terms of blood pressure?"
   ]
  },
  {
   "cell_type": "code",
   "execution_count": 20,
   "id": "588da2cf",
   "metadata": {},
   "outputs": [
    {
     "name": "stdout",
     "output_type": "stream",
     "text": [
      "Diastolic pressure is higher than systolic one in 92 cases\n"
     ]
    }
   ],
   "source": [
    "print(\"Diastolic pressure is higher than systolic one in {0} cases\".format(data[data['ap_lo']> data['ap_hi']].shape[0]))"
   ]
  },
  {
   "cell_type": "markdown",
   "id": "66c21d7c",
   "metadata": {},
   "source": [
    "### Let's get rid of the outliers, moreover blood pressure could not be negative value!"
   ]
  },
  {
   "cell_type": "code",
   "execution_count": 21,
   "id": "e209ddf6",
   "metadata": {},
   "outputs": [
    {
     "name": "stdout",
     "output_type": "stream",
     "text": [
      "Maximum systolic pressure: 906\n",
      "Minimum systolic pressure: 10\n",
      "Number of systolic pressure variables: 63\n"
     ]
    }
   ],
   "source": [
    "print('Maximum systolic pressure:',data[\"ap_hi\"].max())\n",
    "print('Minimum systolic pressure:', data[\"ap_hi\"].min())\n",
    "print('Number of systolic pressure variables:', data[\"ap_hi\"].nunique())"
   ]
  },
  {
   "cell_type": "code",
   "execution_count": 22,
   "id": "26ee9e7c",
   "metadata": {},
   "outputs": [
    {
     "name": "stdout",
     "output_type": "stream",
     "text": [
      "Maximum diastolic pressure: 10000\n",
      "Minimum diastolic pressure: 0\n",
      "Number of diastolic pressure variables: 58\n"
     ]
    }
   ],
   "source": [
    "print('Maximum diastolic pressure:',data[\"ap_lo\"].max())\n",
    "print('Minimum diastolic pressure:', data[\"ap_lo\"].min())\n",
    "print('Number of diastolic pressure variables:', data[\"ap_lo\"].nunique())"
   ]
  },
  {
   "cell_type": "code",
   "execution_count": 23,
   "id": "6911dbb7",
   "metadata": {},
   "outputs": [],
   "source": [
    "# data.drop(data[(data['ap_hi'] > data['ap_hi'].quantile(0.975)) | (data['ap_hi'] < data['ap_hi'].quantile(0.025))].index,inplace=True)\n",
    "# data.drop(data[(data['ap_lo'] > data['ap_lo'].quantile(0.975)) | (data['ap_lo'] < data['ap_lo'].quantile(0.025))].index,inplace=True)"
   ]
  },
  {
   "cell_type": "code",
   "execution_count": 24,
   "id": "af34e7cb",
   "metadata": {},
   "outputs": [
    {
     "data": {
      "text/plain": [
       "4445"
      ]
     },
     "execution_count": 24,
     "metadata": {},
     "output_type": "execute_result"
    }
   ],
   "source": [
    "# out_filter = ((data[\"ap_hi\"]>250) | (data[\"ap_lo\"]>200))\n",
    "out_filter = ((data[\"ap_hi\"]>175) | (data[\"ap_lo\"]>120))\n",
    "data = data[~out_filter]\n",
    "len(data)"
   ]
  },
  {
   "cell_type": "code",
   "execution_count": 25,
   "id": "80794f3b",
   "metadata": {},
   "outputs": [
    {
     "data": {
      "text/plain": [
       "4421"
      ]
     },
     "execution_count": 25,
     "metadata": {},
     "output_type": "execute_result"
    }
   ],
   "source": [
    "# out_filter2 = ((data[\"ap_hi\"] < 0) | (data[\"ap_lo\"] < 0))\n",
    "out_filter2 = ((data[\"ap_hi\"] < 75) | (data[\"ap_lo\"] < 50))\n",
    "data = data[~out_filter2]\n",
    "len(data)"
   ]
  },
  {
   "cell_type": "code",
   "execution_count": 26,
   "id": "da8df7ca",
   "metadata": {},
   "outputs": [
    {
     "data": {
      "text/plain": [
       "1"
      ]
     },
     "execution_count": 26,
     "metadata": {},
     "output_type": "execute_result"
    }
   ],
   "source": [
    "data[data['ap_lo']> data['ap_hi']].shape[0]"
   ]
  },
  {
   "cell_type": "code",
   "execution_count": 27,
   "id": "fc71c307",
   "metadata": {},
   "outputs": [
    {
     "data": {
      "text/plain": [
       "['Normal', 'Hypertension']\n",
       "Categories (3, object): ['Normal' < 'Hypertension' < 'Hypertensive crisis']"
      ]
     },
     "execution_count": 27,
     "metadata": {},
     "output_type": "execute_result"
    }
   ],
   "source": [
    "#Collapse ap_hi into fewer groups\n",
    "ranges = [0, 130, 180, 320]\n",
    "group_names = ['Normal', 'Hypertension', 'Hypertensive crisis']\n",
    "data['systolic'] = pd.cut(data['ap_hi'], bins=ranges, labels=group_names)\n",
    "data['systolic'].unique()"
   ]
  },
  {
   "cell_type": "code",
   "execution_count": 28,
   "id": "14dd0019",
   "metadata": {},
   "outputs": [
    {
     "data": {
      "text/plain": [
       "['Normal', 'Hypertension']\n",
       "Categories (3, object): ['Normal' < 'Hypertension' < 'Hypertensive crisis']"
      ]
     },
     "execution_count": 28,
     "metadata": {},
     "output_type": "execute_result"
    }
   ],
   "source": [
    "#Collapse ap_lo into fewer groups\n",
    "ranges = [-1, 81, 120, 201]\n",
    "group_names = ['Normal', 'Hypertension', 'Hypertensive crisis']\n",
    "data['diastolic'] = pd.cut(data['ap_lo'], bins=ranges, labels=group_names)\n",
    "data['diastolic'].unique()"
   ]
  },
  {
   "cell_type": "markdown",
   "id": "a0aac508",
   "metadata": {},
   "source": [
    "### Let's remove bmi"
   ]
  },
  {
   "cell_type": "code",
   "execution_count": 29,
   "id": "84d2db2a",
   "metadata": {},
   "outputs": [
    {
     "name": "stdout",
     "output_type": "stream",
     "text": [
      "Maximum body mass index: 95.22160664819944\n",
      "Minimum body mass index: 15.359168241965973\n",
      "Number of body mass index: 1506\n"
     ]
    }
   ],
   "source": [
    "print('Maximum body mass index:',data[\"bmi\"].max())\n",
    "print('Minimum body mass index:', data[\"bmi\"].min())\n",
    "print('Number of body mass index:', data[\"bmi\"].nunique())"
   ]
  },
  {
   "cell_type": "code",
   "execution_count": 30,
   "id": "e152d3ec",
   "metadata": {},
   "outputs": [
    {
     "data": {
      "text/plain": [
       "4401"
      ]
     },
     "execution_count": 30,
     "metadata": {},
     "output_type": "execute_result"
    }
   ],
   "source": [
    "# out_filter2 = ((data[\"bmi\"]>150))\n",
    "out_filter2 = ((data[\"bmi\"]>50))\n",
    "data = data[~out_filter2]\n",
    "len(data)"
   ]
  },
  {
   "cell_type": "code",
   "execution_count": 31,
   "id": "57f1c1b5",
   "metadata": {},
   "outputs": [
    {
     "data": {
      "text/plain": [
       "['Normal', 'Obesity', 'Overweight', 'Underweight']\n",
       "Categories (4, object): ['Underweight' < 'Normal' < 'Overweight' < 'Obesity']"
      ]
     },
     "execution_count": 31,
     "metadata": {},
     "output_type": "execute_result"
    }
   ],
   "source": [
    "#Collapse bmi into fewer groups\n",
    "ranges = [0, 19, 25, 30, 160]\n",
    "group_names = ['Underweight', 'Normal', 'Overweight', 'Obesity']\n",
    "data['bmi_group'] = pd.cut(data['bmi'], bins=ranges, labels=group_names)\n",
    "data['bmi_group'].unique()"
   ]
  },
  {
   "cell_type": "code",
   "execution_count": 32,
   "id": "37977c59",
   "metadata": {
    "scrolled": true
   },
   "outputs": [
    {
     "data": {
      "text/plain": [
       "<AxesSubplot:>"
      ]
     },
     "execution_count": 32,
     "metadata": {},
     "output_type": "execute_result"
    },
    {
     "data": {
      "image/png": "[encoded data removed]",
      "text/plain": [
       "<Figure size 640x480 with 1 Axes>"
      ]
     },
     "metadata": {},
     "output_type": "display_data"
    }
   ],
   "source": [
    "# plt.figure(num=None, figsize=(10.4, 6.4), dpi=900, facecolor='w', edgecolor='k')\n",
    "data.plot(kind='box')\n",
    "# plt.axis(xmin=0,xmax=14,ymin=-1,ymax=5)\n",
    "# plt.show();\n"
   ]
  },
  {
   "cell_type": "code",
   "execution_count": 33,
   "id": "75d49755",
   "metadata": {},
   "outputs": [
    {
     "name": "stdout",
     "output_type": "stream",
     "text": [
      "<class 'pandas.core.frame.DataFrame'>\n",
      "Int64Index: 4401 entries, 0 to 4583\n",
      "Data columns (total 14 columns):\n",
      " #   Column       Non-Null Count  Dtype   \n",
      "---  ------       --------------  -----   \n",
      " 0   age          4401 non-null   int32   \n",
      " 1   gender       4401 non-null   int64   \n",
      " 2   ap_hi        4401 non-null   int64   \n",
      " 3   ap_lo        4401 non-null   int64   \n",
      " 4   cholesterol  4401 non-null   int64   \n",
      " 5   gluc         4401 non-null   int64   \n",
      " 6   smoke        4401 non-null   int64   \n",
      " 7   alco         4401 non-null   int64   \n",
      " 8   active       4401 non-null   int64   \n",
      " 9   cardio       4401 non-null   int64   \n",
      " 10  bmi          4401 non-null   float64 \n",
      " 11  systolic     4401 non-null   category\n",
      " 12  diastolic    4401 non-null   category\n",
      " 13  bmi_group    4401 non-null   category\n",
      "dtypes: category(3), float64(1), int32(1), int64(9)\n",
      "memory usage: 408.8 KB\n"
     ]
    }
   ],
   "source": [
    "data.info()"
   ]
  },
  {
   "cell_type": "code",
   "execution_count": 34,
   "id": "8a7b62f6",
   "metadata": {},
   "outputs": [
    {
     "data": {
      "text/html": [
       "<div>\n",
       "<style scoped>\n",
       "    .dataframe tbody tr th:only-of-type {\n",
       "        vertical-align: middle;\n",
       "    }\n",
       "\n",
       "    .dataframe tbody tr th {\n",
       "        vertical-align: top;\n",
       "    }\n",
       "\n",
       "    .dataframe thead th {\n",
       "        text-align: right;\n",
       "    }\n",
       "</style>\n",
       "<table border=\"1\" class=\"dataframe\">\n",
       "  <thead>\n",
       "    <tr style=\"text-align: right;\">\n",
       "      <th></th>\n",
       "      <th>age</th>\n",
       "      <th>gender</th>\n",
       "      <th>ap_hi</th>\n",
       "      <th>ap_lo</th>\n",
       "      <th>cholesterol</th>\n",
       "      <th>gluc</th>\n",
       "      <th>smoke</th>\n",
       "      <th>alco</th>\n",
       "      <th>active</th>\n",
       "      <th>cardio</th>\n",
       "      <th>bmi</th>\n",
       "    </tr>\n",
       "  </thead>\n",
       "  <tbody>\n",
       "    <tr>\n",
       "      <th>count</th>\n",
       "      <td>4401.000000</td>\n",
       "      <td>4401.000000</td>\n",
       "      <td>4401.000000</td>\n",
       "      <td>4401.000000</td>\n",
       "      <td>4401.000000</td>\n",
       "      <td>4401.000000</td>\n",
       "      <td>4401.000000</td>\n",
       "      <td>4401.000000</td>\n",
       "      <td>4401.000000</td>\n",
       "      <td>4401.000000</td>\n",
       "      <td>4401.000000</td>\n",
       "    </tr>\n",
       "    <tr>\n",
       "      <th>mean</th>\n",
       "      <td>53.256533</td>\n",
       "      <td>1.354010</td>\n",
       "      <td>125.754374</td>\n",
       "      <td>81.085435</td>\n",
       "      <td>1.365826</td>\n",
       "      <td>1.229039</td>\n",
       "      <td>0.088843</td>\n",
       "      <td>0.054988</td>\n",
       "      <td>0.795728</td>\n",
       "      <td>0.492615</td>\n",
       "      <td>27.408105</td>\n",
       "    </tr>\n",
       "    <tr>\n",
       "      <th>std</th>\n",
       "      <td>6.843633</td>\n",
       "      <td>0.478267</td>\n",
       "      <td>15.227618</td>\n",
       "      <td>9.119658</td>\n",
       "      <td>0.681079</td>\n",
       "      <td>0.573888</td>\n",
       "      <td>0.284550</td>\n",
       "      <td>0.227982</td>\n",
       "      <td>0.403214</td>\n",
       "      <td>0.500002</td>\n",
       "      <td>4.995767</td>\n",
       "    </tr>\n",
       "    <tr>\n",
       "      <th>min</th>\n",
       "      <td>39.000000</td>\n",
       "      <td>1.000000</td>\n",
       "      <td>80.000000</td>\n",
       "      <td>50.000000</td>\n",
       "      <td>1.000000</td>\n",
       "      <td>1.000000</td>\n",
       "      <td>0.000000</td>\n",
       "      <td>0.000000</td>\n",
       "      <td>0.000000</td>\n",
       "      <td>0.000000</td>\n",
       "      <td>15.359168</td>\n",
       "    </tr>\n",
       "    <tr>\n",
       "      <th>25%</th>\n",
       "      <td>48.000000</td>\n",
       "      <td>1.000000</td>\n",
       "      <td>120.000000</td>\n",
       "      <td>80.000000</td>\n",
       "      <td>1.000000</td>\n",
       "      <td>1.000000</td>\n",
       "      <td>0.000000</td>\n",
       "      <td>0.000000</td>\n",
       "      <td>1.000000</td>\n",
       "      <td>0.000000</td>\n",
       "      <td>23.875115</td>\n",
       "    </tr>\n",
       "    <tr>\n",
       "      <th>50%</th>\n",
       "      <td>54.000000</td>\n",
       "      <td>1.000000</td>\n",
       "      <td>120.000000</td>\n",
       "      <td>80.000000</td>\n",
       "      <td>1.000000</td>\n",
       "      <td>1.000000</td>\n",
       "      <td>0.000000</td>\n",
       "      <td>0.000000</td>\n",
       "      <td>1.000000</td>\n",
       "      <td>0.000000</td>\n",
       "      <td>26.423570</td>\n",
       "    </tr>\n",
       "    <tr>\n",
       "      <th>75%</th>\n",
       "      <td>58.000000</td>\n",
       "      <td>2.000000</td>\n",
       "      <td>140.000000</td>\n",
       "      <td>90.000000</td>\n",
       "      <td>1.000000</td>\n",
       "      <td>1.000000</td>\n",
       "      <td>0.000000</td>\n",
       "      <td>0.000000</td>\n",
       "      <td>1.000000</td>\n",
       "      <td>1.000000</td>\n",
       "      <td>30.078125</td>\n",
       "    </tr>\n",
       "    <tr>\n",
       "      <th>max</th>\n",
       "      <td>65.000000</td>\n",
       "      <td>2.000000</td>\n",
       "      <td>172.000000</td>\n",
       "      <td>120.000000</td>\n",
       "      <td>3.000000</td>\n",
       "      <td>3.000000</td>\n",
       "      <td>1.000000</td>\n",
       "      <td>1.000000</td>\n",
       "      <td>1.000000</td>\n",
       "      <td>1.000000</td>\n",
       "      <td>49.535132</td>\n",
       "    </tr>\n",
       "  </tbody>\n",
       "</table>\n",
       "</div>"
      ],
      "text/plain": [
       "               age       gender        ap_hi        ap_lo  cholesterol  \\\n",
       "count  4401.000000  4401.000000  4401.000000  4401.000000  4401.000000   \n",
       "mean     53.256533     1.354010   125.754374    81.085435     1.365826   \n",
       "std       6.843633     0.478267    15.227618     9.119658     0.681079   \n",
       "min      39.000000     1.000000    80.000000    50.000000     1.000000   \n",
       "25%      48.000000     1.000000   120.000000    80.000000     1.000000   \n",
       "50%      54.000000     1.000000   120.000000    80.000000     1.000000   \n",
       "75%      58.000000     2.000000   140.000000    90.000000     1.000000   \n",
       "max      65.000000     2.000000   172.000000   120.000000     3.000000   \n",
       "\n",
       "              gluc        smoke         alco       active       cardio  \\\n",
       "count  4401.000000  4401.000000  4401.000000  4401.000000  4401.000000   \n",
       "mean      1.229039     0.088843     0.054988     0.795728     0.492615   \n",
       "std       0.573888     0.284550     0.227982     0.403214     0.500002   \n",
       "min       1.000000     0.000000     0.000000     0.000000     0.000000   \n",
       "25%       1.000000     0.000000     0.000000     1.000000     0.000000   \n",
       "50%       1.000000     0.000000     0.000000     1.000000     0.000000   \n",
       "75%       1.000000     0.000000     0.000000     1.000000     1.000000   \n",
       "max       3.000000     1.000000     1.000000     1.000000     1.000000   \n",
       "\n",
       "               bmi  \n",
       "count  4401.000000  \n",
       "mean     27.408105  \n",
       "std       4.995767  \n",
       "min      15.359168  \n",
       "25%      23.875115  \n",
       "50%      26.423570  \n",
       "75%      30.078125  \n",
       "max      49.535132  "
      ]
     },
     "execution_count": 34,
     "metadata": {},
     "output_type": "execute_result"
    }
   ],
   "source": [
    "data.describe()"
   ]
  },
  {
   "cell_type": "markdown",
   "id": "0848076d",
   "metadata": {},
   "source": [
    "### Analysing the 'target' variable"
   ]
  },
  {
   "cell_type": "code",
   "execution_count": 35,
   "id": "e319c8bd",
   "metadata": {},
   "outputs": [
    {
     "data": {
      "text/plain": [
       "count    4401.000000\n",
       "mean        0.492615\n",
       "std         0.500002\n",
       "min         0.000000\n",
       "25%         0.000000\n",
       "50%         0.000000\n",
       "75%         1.000000\n",
       "max         1.000000\n",
       "Name: cardio, dtype: float64"
      ]
     },
     "execution_count": 35,
     "metadata": {},
     "output_type": "execute_result"
    }
   ],
   "source": [
    "data[\"cardio\"].describe()"
   ]
  },
  {
   "cell_type": "code",
   "execution_count": 36,
   "id": "45b2719a",
   "metadata": {},
   "outputs": [
    {
     "data": {
      "text/plain": [
       "array([0, 1], dtype=int64)"
      ]
     },
     "execution_count": 36,
     "metadata": {},
     "output_type": "execute_result"
    }
   ],
   "source": [
    "data[\"cardio\"].unique()"
   ]
  },
  {
   "cell_type": "markdown",
   "id": "2e445fbb",
   "metadata": {},
   "source": [
    "##### Clearly, this is a classification problem, with the target variable having values '0' and '1'"
   ]
  },
  {
   "cell_type": "code",
   "execution_count": 37,
   "id": "c133ceb9",
   "metadata": {},
   "outputs": [
    {
     "name": "stdout",
     "output_type": "stream",
     "text": [
      "cardio         1.000000\n",
      "ap_hi          0.439914\n",
      "ap_lo          0.341308\n",
      "cholesterol    0.234179\n",
      "age            0.230860\n",
      "bmi            0.195937\n",
      "gluc           0.095397\n",
      "active         0.041867\n",
      "alco           0.009544\n",
      "smoke          0.005771\n",
      "gender         0.005232\n",
      "Name: cardio, dtype: float64\n"
     ]
    }
   ],
   "source": [
    "print(data.corr()[\"cardio\"].abs().sort_values(ascending=False))\n"
   ]
  },
  {
   "cell_type": "code",
   "execution_count": 38,
   "id": "6266339b",
   "metadata": {},
   "outputs": [
    {
     "data": {
      "text/html": [
       "<div>\n",
       "<style scoped>\n",
       "    .dataframe tbody tr th:only-of-type {\n",
       "        vertical-align: middle;\n",
       "    }\n",
       "\n",
       "    .dataframe tbody tr th {\n",
       "        vertical-align: top;\n",
       "    }\n",
       "\n",
       "    .dataframe thead th {\n",
       "        text-align: right;\n",
       "    }\n",
       "</style>\n",
       "<table border=\"1\" class=\"dataframe\">\n",
       "  <thead>\n",
       "    <tr style=\"text-align: right;\">\n",
       "      <th></th>\n",
       "      <th>age</th>\n",
       "      <th>gender</th>\n",
       "      <th>ap_hi</th>\n",
       "      <th>ap_lo</th>\n",
       "      <th>cholesterol</th>\n",
       "      <th>gluc</th>\n",
       "      <th>smoke</th>\n",
       "      <th>alco</th>\n",
       "      <th>active</th>\n",
       "      <th>cardio</th>\n",
       "      <th>bmi</th>\n",
       "    </tr>\n",
       "  </thead>\n",
       "  <tbody>\n",
       "    <tr>\n",
       "      <th>age</th>\n",
       "      <td>1.000000</td>\n",
       "      <td>-0.020323</td>\n",
       "      <td>0.201632</td>\n",
       "      <td>0.125915</td>\n",
       "      <td>0.164515</td>\n",
       "      <td>0.090181</td>\n",
       "      <td>-0.052554</td>\n",
       "      <td>-0.017929</td>\n",
       "      <td>-0.021198</td>\n",
       "      <td>0.230860</td>\n",
       "      <td>0.100052</td>\n",
       "    </tr>\n",
       "    <tr>\n",
       "      <th>gender</th>\n",
       "      <td>-0.020323</td>\n",
       "      <td>1.000000</td>\n",
       "      <td>0.048610</td>\n",
       "      <td>0.060699</td>\n",
       "      <td>-0.024390</td>\n",
       "      <td>-0.026367</td>\n",
       "      <td>0.338313</td>\n",
       "      <td>0.179943</td>\n",
       "      <td>0.038014</td>\n",
       "      <td>0.005232</td>\n",
       "      <td>-0.121611</td>\n",
       "    </tr>\n",
       "    <tr>\n",
       "      <th>ap_hi</th>\n",
       "      <td>0.201632</td>\n",
       "      <td>0.048610</td>\n",
       "      <td>1.000000</td>\n",
       "      <td>0.713992</td>\n",
       "      <td>0.184700</td>\n",
       "      <td>0.098399</td>\n",
       "      <td>0.007293</td>\n",
       "      <td>0.030667</td>\n",
       "      <td>-0.006545</td>\n",
       "      <td>0.439914</td>\n",
       "      <td>0.251816</td>\n",
       "    </tr>\n",
       "    <tr>\n",
       "      <th>ap_lo</th>\n",
       "      <td>0.125915</td>\n",
       "      <td>0.060699</td>\n",
       "      <td>0.713992</td>\n",
       "      <td>1.000000</td>\n",
       "      <td>0.145465</td>\n",
       "      <td>0.060790</td>\n",
       "      <td>0.004781</td>\n",
       "      <td>0.040700</td>\n",
       "      <td>-0.023313</td>\n",
       "      <td>0.341308</td>\n",
       "      <td>0.221622</td>\n",
       "    </tr>\n",
       "    <tr>\n",
       "      <th>cholesterol</th>\n",
       "      <td>0.164515</td>\n",
       "      <td>-0.024390</td>\n",
       "      <td>0.184700</td>\n",
       "      <td>0.145465</td>\n",
       "      <td>1.000000</td>\n",
       "      <td>0.437986</td>\n",
       "      <td>0.015201</td>\n",
       "      <td>0.019716</td>\n",
       "      <td>0.027209</td>\n",
       "      <td>0.234179</td>\n",
       "      <td>0.191800</td>\n",
       "    </tr>\n",
       "    <tr>\n",
       "      <th>gluc</th>\n",
       "      <td>0.090181</td>\n",
       "      <td>-0.026367</td>\n",
       "      <td>0.098399</td>\n",
       "      <td>0.060790</td>\n",
       "      <td>0.437986</td>\n",
       "      <td>1.000000</td>\n",
       "      <td>0.006187</td>\n",
       "      <td>0.013154</td>\n",
       "      <td>0.025444</td>\n",
       "      <td>0.095397</td>\n",
       "      <td>0.114843</td>\n",
       "    </tr>\n",
       "    <tr>\n",
       "      <th>smoke</th>\n",
       "      <td>-0.052554</td>\n",
       "      <td>0.338313</td>\n",
       "      <td>0.007293</td>\n",
       "      <td>0.004781</td>\n",
       "      <td>0.015201</td>\n",
       "      <td>0.006187</td>\n",
       "      <td>1.000000</td>\n",
       "      <td>0.327567</td>\n",
       "      <td>0.039360</td>\n",
       "      <td>-0.005771</td>\n",
       "      <td>-0.039776</td>\n",
       "    </tr>\n",
       "    <tr>\n",
       "      <th>alco</th>\n",
       "      <td>-0.017929</td>\n",
       "      <td>0.179943</td>\n",
       "      <td>0.030667</td>\n",
       "      <td>0.040700</td>\n",
       "      <td>0.019716</td>\n",
       "      <td>0.013154</td>\n",
       "      <td>0.327567</td>\n",
       "      <td>1.000000</td>\n",
       "      <td>0.033213</td>\n",
       "      <td>0.009544</td>\n",
       "      <td>0.035020</td>\n",
       "    </tr>\n",
       "    <tr>\n",
       "      <th>active</th>\n",
       "      <td>-0.021198</td>\n",
       "      <td>0.038014</td>\n",
       "      <td>-0.006545</td>\n",
       "      <td>-0.023313</td>\n",
       "      <td>0.027209</td>\n",
       "      <td>0.025444</td>\n",
       "      <td>0.039360</td>\n",
       "      <td>0.033213</td>\n",
       "      <td>1.000000</td>\n",
       "      <td>-0.041867</td>\n",
       "      <td>-0.007259</td>\n",
       "    </tr>\n",
       "    <tr>\n",
       "      <th>cardio</th>\n",
       "      <td>0.230860</td>\n",
       "      <td>0.005232</td>\n",
       "      <td>0.439914</td>\n",
       "      <td>0.341308</td>\n",
       "      <td>0.234179</td>\n",
       "      <td>0.095397</td>\n",
       "      <td>-0.005771</td>\n",
       "      <td>0.009544</td>\n",
       "      <td>-0.041867</td>\n",
       "      <td>1.000000</td>\n",
       "      <td>0.195937</td>\n",
       "    </tr>\n",
       "    <tr>\n",
       "      <th>bmi</th>\n",
       "      <td>0.100052</td>\n",
       "      <td>-0.121611</td>\n",
       "      <td>0.251816</td>\n",
       "      <td>0.221622</td>\n",
       "      <td>0.191800</td>\n",
       "      <td>0.114843</td>\n",
       "      <td>-0.039776</td>\n",
       "      <td>0.035020</td>\n",
       "      <td>-0.007259</td>\n",
       "      <td>0.195937</td>\n",
       "      <td>1.000000</td>\n",
       "    </tr>\n",
       "  </tbody>\n",
       "</table>\n",
       "</div>"
      ],
      "text/plain": [
       "                  age    gender     ap_hi     ap_lo  cholesterol      gluc  \\\n",
       "age          1.000000 -0.020323  0.201632  0.125915     0.164515  0.090181   \n",
       "gender      -0.020323  1.000000  0.048610  0.060699    -0.024390 -0.026367   \n",
       "ap_hi        0.201632  0.048610  1.000000  0.713992     0.184700  0.098399   \n",
       "ap_lo        0.125915  0.060699  0.713992  1.000000     0.145465  0.060790   \n",
       "cholesterol  0.164515 -0.024390  0.184700  0.145465     1.000000  0.437986   \n",
       "gluc         0.090181 -0.026367  0.098399  0.060790     0.437986  1.000000   \n",
       "smoke       -0.052554  0.338313  0.007293  0.004781     0.015201  0.006187   \n",
       "alco        -0.017929  0.179943  0.030667  0.040700     0.019716  0.013154   \n",
       "active      -0.021198  0.038014 -0.006545 -0.023313     0.027209  0.025444   \n",
       "cardio       0.230860  0.005232  0.439914  0.341308     0.234179  0.095397   \n",
       "bmi          0.100052 -0.121611  0.251816  0.221622     0.191800  0.114843   \n",
       "\n",
       "                smoke      alco    active    cardio       bmi  \n",
       "age         -0.052554 -0.017929 -0.021198  0.230860  0.100052  \n",
       "gender       0.338313  0.179943  0.038014  0.005232 -0.121611  \n",
       "ap_hi        0.007293  0.030667 -0.006545  0.439914  0.251816  \n",
       "ap_lo        0.004781  0.040700 -0.023313  0.341308  0.221622  \n",
       "cholesterol  0.015201  0.019716  0.027209  0.234179  0.191800  \n",
       "gluc         0.006187  0.013154  0.025444  0.095397  0.114843  \n",
       "smoke        1.000000  0.327567  0.039360 -0.005771 -0.039776  \n",
       "alco         0.327567  1.000000  0.033213  0.009544  0.035020  \n",
       "active       0.039360  0.033213  1.000000 -0.041867 -0.007259  \n",
       "cardio      -0.005771  0.009544 -0.041867  1.000000  0.195937  \n",
       "bmi         -0.039776  0.035020 -0.007259  0.195937  1.000000  "
      ]
     },
     "execution_count": 38,
     "metadata": {},
     "output_type": "execute_result"
    }
   ],
   "source": [
    "#check for correlation among the numerical columns\n",
    "correlation = data.select_dtypes('number').corr()\n",
    "correlation"
   ]
  },
  {
   "cell_type": "code",
   "execution_count": 39,
   "id": "50d3fe9f",
   "metadata": {},
   "outputs": [
    {
     "data": {
      "image/png": "[encoded data removed]",
      "text/plain": [
       "<Figure size 640x480 with 2 Axes>"
      ]
     },
     "metadata": {},
     "output_type": "display_data"
    }
   ],
   "source": [
    "import seaborn as sns\n",
    "#visualise the correlation\n",
    "sns.heatmap(correlation, annot=True, vmin=-1, vmax=1, cmap='Purples', linewidth=0.5);"
   ]
  },
  {
   "cell_type": "markdown",
   "id": "3001bd64",
   "metadata": {},
   "source": [
    "#### here we can see ap_hi and ap_lo are little bit dependent\n",
    "#### gluc and cholesterol are also dependent"
   ]
  },
  {
   "cell_type": "markdown",
   "id": "2429fb1a",
   "metadata": {},
   "source": [
    "# analysing"
   ]
  },
  {
   "cell_type": "markdown",
   "id": "9271b773",
   "metadata": {},
   "source": [
    "## EDA"
   ]
  },
  {
   "cell_type": "code",
   "execution_count": 40,
   "id": "56a14a06",
   "metadata": {},
   "outputs": [
    {
     "name": "stdout",
     "output_type": "stream",
     "text": [
      "0    2233\n",
      "1    2168\n",
      "Name: cardio, dtype: int64\n"
     ]
    },
    {
     "data": {
      "image/png": "[encoded data removed]",
      "text/plain": [
       "<Figure size 640x480 with 1 Axes>"
      ]
     },
     "metadata": {},
     "output_type": "display_data"
    }
   ],
   "source": [
    "y = data[\"cardio\"]\n",
    "sns.countplot(y)\n",
    "\n",
    "target_temp = data.cardio.value_counts()\n",
    "print(target_temp)"
   ]
  },
  {
   "cell_type": "code",
   "execution_count": 41,
   "id": "a7caa2fc",
   "metadata": {},
   "outputs": [
    {
     "data": {
      "text/plain": [
       "<AxesSubplot:xlabel='gender', ylabel='cardio'>"
      ]
     },
     "execution_count": 41,
     "metadata": {},
     "output_type": "execute_result"
    },
    {
     "data": {
      "image/png": "[encoded data removed]",
      "text/plain": [
       "<Figure size 640x480 with 1 Axes>"
      ]
     },
     "metadata": {},
     "output_type": "display_data"
    }
   ],
   "source": [
    "sns.barplot(data[\"gender\"],y)\n"
   ]
  },
  {
   "cell_type": "markdown",
   "id": "6f0d2cb3",
   "metadata": {},
   "source": [
    "##### avg value of y for each men and women is ploted"
   ]
  },
  {
   "cell_type": "code",
   "execution_count": 42,
   "id": "a60a0298",
   "metadata": {},
   "outputs": [
    {
     "data": {
      "text/plain": [
       "<AxesSubplot:xlabel='cardio', ylabel='count'>"
      ]
     },
     "execution_count": 42,
     "metadata": {},
     "output_type": "execute_result"
    },
    {
     "data": {
      "image/png": "[encoded data removed]",
      "text/plain": [
       "<Figure size 640x480 with 1 Axes>"
      ]
     },
     "metadata": {},
     "output_type": "display_data"
    }
   ],
   "source": [
    "sns.countplot(x='cardio',hue='gender',data=data)"
   ]
  },
  {
   "cell_type": "markdown",
   "id": "a3a77be2",
   "metadata": {},
   "source": [
    "##### count of occurance of each category"
   ]
  },
  {
   "cell_type": "code",
   "execution_count": 43,
   "id": "62816593",
   "metadata": {
    "scrolled": true
   },
   "outputs": [
    {
     "data": {
      "text/plain": [
       "<AxesSubplot:xlabel='cholesterol', ylabel='cardio'>"
      ]
     },
     "execution_count": 43,
     "metadata": {},
     "output_type": "execute_result"
    },
    {
     "data": {
      "image/png": "[encoded data removed]",
      "text/plain": [
       "<Figure size 640x480 with 1 Axes>"
      ]
     },
     "metadata": {},
     "output_type": "display_data"
    }
   ],
   "source": [
    "sns.barplot(data=data,x=\"cholesterol\", y=\"cardio\")\n",
    "# plt.show()"
   ]
  },
  {
   "cell_type": "code",
   "execution_count": 44,
   "id": "f1894c81",
   "metadata": {},
   "outputs": [
    {
     "name": "stdout",
     "output_type": "stream",
     "text": [
      "cholesterol  cardio\n",
      "1            0         1878\n",
      "             1         1423\n",
      "2            0          244\n",
      "             1          346\n",
      "3            0          111\n",
      "             1          399\n",
      "dtype: int64\n"
     ]
    }
   ],
   "source": [
    "value_counts = data.groupby([\"cholesterol\", \"cardio\"]).size()\n",
    "\n",
    "print(value_counts)"
   ]
  },
  {
   "cell_type": "code",
   "execution_count": 45,
   "id": "6315afd1",
   "metadata": {},
   "outputs": [
    {
     "data": {
      "image/png": "[encoded data removed]",
      "text/plain": [
       "<Figure size 640x480 with 1 Axes>"
      ]
     },
     "metadata": {},
     "output_type": "display_data"
    }
   ],
   "source": [
    "import seaborn as sns\n",
    "import matplotlib.pyplot as plt\n",
    "\n",
    "# Calculate the value count of \"cardio\" for each unique \"cholesterol\" value\n",
    "value_counts = data.groupby(\"cholesterol\")[\"cardio\"].value_counts().unstack()\n",
    "\n",
    "# Plot the value counts\n",
    "ax = value_counts.plot(kind=\"bar\", stacked=True)\n",
    "\n",
    "# Customize the plot\n",
    "ax.set_xlabel(\"Cholesterol\")\n",
    "ax.set_ylabel(\"Count\")\n",
    "ax.set_title(\"Cholesterol with respect to Cardio Count\")\n",
    "plt.legend(title=\"Cardio\", loc=\"upper right\")\n",
    "\n",
    "# Display the plot\n",
    "plt.show()"
   ]
  },
  {
   "cell_type": "code",
   "execution_count": 46,
   "id": "9aa83959",
   "metadata": {},
   "outputs": [
    {
     "data": {
      "text/plain": [
       "<AxesSubplot:xlabel='gluc', ylabel='cardio'>"
      ]
     },
     "execution_count": 46,
     "metadata": {},
     "output_type": "execute_result"
    },
    {
     "data": {
      "image/png": "[encoded data removed]",
      "text/plain": [
       "<Figure size 640x480 with 1 Axes>"
      ]
     },
     "metadata": {},
     "output_type": "display_data"
    }
   ],
   "source": [
    "sns.barplot(data=data,x=\"gluc\", y=\"cardio\")\n",
    "# plt.show()"
   ]
  },
  {
   "cell_type": "code",
   "execution_count": 47,
   "id": "715dc64e",
   "metadata": {},
   "outputs": [
    {
     "data": {
      "text/plain": [
       "<AxesSubplot:xlabel='smoke', ylabel='cardio'>"
      ]
     },
     "execution_count": 47,
     "metadata": {},
     "output_type": "execute_result"
    },
    {
     "data": {
      "image/png": "[encoded data removed]",
      "text/plain": [
       "<Figure size 640x480 with 1 Axes>"
      ]
     },
     "metadata": {},
     "output_type": "display_data"
    }
   ],
   "source": [
    "sns.barplot(data=data,x=\"smoke\", y=\"cardio\")\n",
    "# plt.show()"
   ]
  },
  {
   "cell_type": "code",
   "execution_count": 48,
   "id": "233fe34e",
   "metadata": {},
   "outputs": [
    {
     "data": {
      "text/plain": [
       "<AxesSubplot:xlabel='alco', ylabel='cardio'>"
      ]
     },
     "execution_count": 48,
     "metadata": {},
     "output_type": "execute_result"
    },
    {
     "data": {
      "image/png": "[encoded data removed]",
      "text/plain": [
       "<Figure size 640x480 with 1 Axes>"
      ]
     },
     "metadata": {},
     "output_type": "display_data"
    }
   ],
   "source": [
    "sns.barplot(data=data,x=\"alco\", y=\"cardio\")\n",
    "# plt.show()"
   ]
  },
  {
   "cell_type": "code",
   "execution_count": 49,
   "id": "21b6b07d",
   "metadata": {},
   "outputs": [
    {
     "data": {
      "text/plain": [
       "gender\n",
       "1     70\n",
       "2    172\n",
       "Name: alco, dtype: int64"
      ]
     },
     "execution_count": 49,
     "metadata": {},
     "output_type": "execute_result"
    }
   ],
   "source": [
    "data.groupby('gender')['alco'].sum()"
   ]
  },
  {
   "cell_type": "code",
   "execution_count": 50,
   "id": "8339bad4",
   "metadata": {
    "scrolled": true
   },
   "outputs": [
    {
     "data": {
      "text/plain": [
       "<AxesSubplot:xlabel='active', ylabel='cardio'>"
      ]
     },
     "execution_count": 50,
     "metadata": {},
     "output_type": "execute_result"
    },
    {
     "data": {
      "image/png": "[encoded data removed]",
      "text/plain": [
       "<Figure size 640x480 with 1 Axes>"
      ]
     },
     "metadata": {},
     "output_type": "display_data"
    }
   ],
   "source": [
    "sns.barplot(data=data,x=\"active\", y=\"cardio\")\n",
    "# plt.show()"
   ]
  },
  {
   "cell_type": "code",
   "execution_count": 51,
   "id": "3d8609a6",
   "metadata": {},
   "outputs": [
    {
     "data": {
      "text/plain": [
       "<AxesSubplot:ylabel='Frequency'>"
      ]
     },
     "execution_count": 51,
     "metadata": {},
     "output_type": "execute_result"
    },
    {
     "data": {
      "image/png": "[encoded data removed]",
      "text/plain": [
       "<Figure size 640x480 with 1 Axes>"
      ]
     },
     "metadata": {},
     "output_type": "display_data"
    }
   ],
   "source": [
    "data['ap_hi'].plot.hist()"
   ]
  },
  {
   "cell_type": "code",
   "execution_count": 52,
   "id": "66a5e1f5",
   "metadata": {},
   "outputs": [
    {
     "data": {
      "text/plain": [
       "<AxesSubplot:ylabel='Frequency'>"
      ]
     },
     "execution_count": 52,
     "metadata": {},
     "output_type": "execute_result"
    },
    {
     "data": {
      "image/png": "[encoded data removed]",
      "text/plain": [
       "<Figure size 640x480 with 1 Axes>"
      ]
     },
     "metadata": {},
     "output_type": "display_data"
    }
   ],
   "source": [
    "data['ap_lo'].plot.hist()"
   ]
  },
  {
   "cell_type": "code",
   "execution_count": 53,
   "id": "4bff9824",
   "metadata": {},
   "outputs": [
    {
     "data": {
      "text/plain": [
       "<AxesSubplot:ylabel='Frequency'>"
      ]
     },
     "execution_count": 53,
     "metadata": {},
     "output_type": "execute_result"
    },
    {
     "data": {
      "image/png": "[encoded data removed]",
      "text/plain": [
       "<Figure size 640x480 with 1 Axes>"
      ]
     },
     "metadata": {},
     "output_type": "display_data"
    }
   ],
   "source": [
    "data['bmi'].plot.hist()"
   ]
  },
  {
   "cell_type": "code",
   "execution_count": 54,
   "id": "31bfa81c",
   "metadata": {},
   "outputs": [
    {
     "name": "stdout",
     "output_type": "stream",
     "text": [
      "Diastilic pressure is higher than systolic one in 1 cases\n"
     ]
    },
    {
     "data": {
      "image/png": "[encoded data removed]",
      "text/plain": [
       "<Figure size 640x480 with 1 Axes>"
      ]
     },
     "metadata": {},
     "output_type": "display_data"
    }
   ],
   "source": [
    "blood_pressure = data.loc[:,['ap_lo','ap_hi']]\n",
    "sns.boxplot(x = 'variable',y = 'value',data = blood_pressure.melt())\n",
    "print(\"Diastilic pressure is higher than systolic one in {0} cases\".format(data[data['ap_lo']> data['ap_hi']].shape[0]))"
   ]
  },
  {
   "cell_type": "code",
   "execution_count": 55,
   "id": "21210caf",
   "metadata": {},
   "outputs": [
    {
     "data": {
      "image/png": "[encoded data removed]",
      "text/plain": [
       "<Figure size 750x750 with 12 Axes>"
      ]
     },
     "metadata": {},
     "output_type": "display_data"
    }
   ],
   "source": [
    "#Visualize the relationships among age, bmi and avg_glucose_level\n",
    "columns= ['age', 'bmi', 'cholesterol']\n",
    "sns.pairplot(data[columns])\n",
    "plt.show()"
   ]
  },
  {
   "cell_type": "code",
   "execution_count": 56,
   "id": "91f310c5",
   "metadata": {},
   "outputs": [
    {
     "name": "stdout",
     "output_type": "stream",
     "text": [
      "cardio         1.000000\n",
      "ap_hi          0.439914\n",
      "ap_lo          0.341308\n",
      "cholesterol    0.234179\n",
      "age            0.230860\n",
      "bmi            0.195937\n",
      "gluc           0.095397\n",
      "active         0.041867\n",
      "alco           0.009544\n",
      "smoke          0.005771\n",
      "gender         0.005232\n",
      "Name: cardio, dtype: float64\n"
     ]
    }
   ],
   "source": [
    "print(data.corr()[\"cardio\"].abs().sort_values(ascending=False))"
   ]
  },
  {
   "cell_type": "code",
   "execution_count": 57,
   "id": "160e2323",
   "metadata": {
    "scrolled": true
   },
   "outputs": [
    {
     "name": "stdout",
     "output_type": "stream",
     "text": [
      "Unique values for bmi_group:['Normal', 'Obesity', 'Overweight', 'Underweight']\n",
      "Categories (4, object): ['Underweight' < 'Normal' < 'Overweight' < 'Obesity']\n",
      "Unique values for systolic:['Normal', 'Hypertension']\n",
      "Categories (3, object): ['Normal' < 'Hypertension' < 'Hypertensive crisis']\n",
      "Unique values for diastolic:['Normal', 'Hypertension']\n",
      "Categories (3, object): ['Normal' < 'Hypertension' < 'Hypertensive crisis']\n",
      "Unique values for cholesterol:[1 3 2]\n",
      "Unique values for gluc:[1 2 3]\n",
      "Unique values for gender:[2 1]\n"
     ]
    }
   ],
   "source": [
    "columns = ['bmi_group', 'systolic','diastolic', 'cholesterol','gluc','gender']\n",
    "\n",
    "for column in columns:\n",
    "    unique_values = data[column].unique()\n",
    "    print(f\"Unique values for {column}:{unique_values}\")"
   ]
  },
  {
   "cell_type": "markdown",
   "id": "09d1ce26",
   "metadata": {},
   "source": [
    "## Binary Encoding:"
   ]
  },
  {
   "cell_type": "code",
   "execution_count": 58,
   "id": "be989ea9",
   "metadata": {},
   "outputs": [],
   "source": [
    "labelencoder = LabelEncoder()\n",
    "data['gender']=labelencoder.fit_transform(data['gender'])"
   ]
  },
  {
   "cell_type": "code",
   "execution_count": 59,
   "id": "d7bccc6a",
   "metadata": {
    "scrolled": true
   },
   "outputs": [
    {
     "data": {
      "text/html": [
       "<div>\n",
       "<style scoped>\n",
       "    .dataframe tbody tr th:only-of-type {\n",
       "        vertical-align: middle;\n",
       "    }\n",
       "\n",
       "    .dataframe tbody tr th {\n",
       "        vertical-align: top;\n",
       "    }\n",
       "\n",
       "    .dataframe thead th {\n",
       "        text-align: right;\n",
       "    }\n",
       "</style>\n",
       "<table border=\"1\" class=\"dataframe\">\n",
       "  <thead>\n",
       "    <tr style=\"text-align: right;\">\n",
       "      <th></th>\n",
       "      <th>age</th>\n",
       "      <th>gender</th>\n",
       "      <th>ap_hi</th>\n",
       "      <th>ap_lo</th>\n",
       "      <th>cholesterol</th>\n",
       "      <th>gluc</th>\n",
       "      <th>smoke</th>\n",
       "      <th>alco</th>\n",
       "      <th>active</th>\n",
       "      <th>cardio</th>\n",
       "      <th>bmi</th>\n",
       "      <th>systolic</th>\n",
       "      <th>diastolic</th>\n",
       "      <th>bmi_group</th>\n",
       "    </tr>\n",
       "  </thead>\n",
       "  <tbody>\n",
       "    <tr>\n",
       "      <th>0</th>\n",
       "      <td>50</td>\n",
       "      <td>1</td>\n",
       "      <td>110</td>\n",
       "      <td>80</td>\n",
       "      <td>1</td>\n",
       "      <td>1</td>\n",
       "      <td>0</td>\n",
       "      <td>0</td>\n",
       "      <td>1</td>\n",
       "      <td>0</td>\n",
       "      <td>21.967120</td>\n",
       "      <td>Normal</td>\n",
       "      <td>Normal</td>\n",
       "      <td>Normal</td>\n",
       "    </tr>\n",
       "    <tr>\n",
       "      <th>1</th>\n",
       "      <td>55</td>\n",
       "      <td>0</td>\n",
       "      <td>140</td>\n",
       "      <td>90</td>\n",
       "      <td>3</td>\n",
       "      <td>1</td>\n",
       "      <td>0</td>\n",
       "      <td>0</td>\n",
       "      <td>1</td>\n",
       "      <td>1</td>\n",
       "      <td>34.927679</td>\n",
       "      <td>Hypertension</td>\n",
       "      <td>Hypertension</td>\n",
       "      <td>Obesity</td>\n",
       "    </tr>\n",
       "    <tr>\n",
       "      <th>2</th>\n",
       "      <td>52</td>\n",
       "      <td>0</td>\n",
       "      <td>130</td>\n",
       "      <td>70</td>\n",
       "      <td>3</td>\n",
       "      <td>1</td>\n",
       "      <td>0</td>\n",
       "      <td>0</td>\n",
       "      <td>0</td>\n",
       "      <td>1</td>\n",
       "      <td>23.507805</td>\n",
       "      <td>Normal</td>\n",
       "      <td>Normal</td>\n",
       "      <td>Normal</td>\n",
       "    </tr>\n",
       "    <tr>\n",
       "      <th>3</th>\n",
       "      <td>48</td>\n",
       "      <td>1</td>\n",
       "      <td>150</td>\n",
       "      <td>100</td>\n",
       "      <td>1</td>\n",
       "      <td>1</td>\n",
       "      <td>0</td>\n",
       "      <td>0</td>\n",
       "      <td>1</td>\n",
       "      <td>1</td>\n",
       "      <td>28.710479</td>\n",
       "      <td>Hypertension</td>\n",
       "      <td>Hypertension</td>\n",
       "      <td>Overweight</td>\n",
       "    </tr>\n",
       "    <tr>\n",
       "      <th>4</th>\n",
       "      <td>48</td>\n",
       "      <td>0</td>\n",
       "      <td>100</td>\n",
       "      <td>60</td>\n",
       "      <td>1</td>\n",
       "      <td>1</td>\n",
       "      <td>0</td>\n",
       "      <td>0</td>\n",
       "      <td>0</td>\n",
       "      <td>0</td>\n",
       "      <td>23.011177</td>\n",
       "      <td>Normal</td>\n",
       "      <td>Normal</td>\n",
       "      <td>Normal</td>\n",
       "    </tr>\n",
       "  </tbody>\n",
       "</table>\n",
       "</div>"
      ],
      "text/plain": [
       "   age  gender  ap_hi  ap_lo  cholesterol  gluc  smoke  alco  active  cardio  \\\n",
       "0   50       1    110     80            1     1      0     0       1       0   \n",
       "1   55       0    140     90            3     1      0     0       1       1   \n",
       "2   52       0    130     70            3     1      0     0       0       1   \n",
       "3   48       1    150    100            1     1      0     0       1       1   \n",
       "4   48       0    100     60            1     1      0     0       0       0   \n",
       "\n",
       "         bmi      systolic     diastolic   bmi_group  \n",
       "0  21.967120        Normal        Normal      Normal  \n",
       "1  34.927679  Hypertension  Hypertension     Obesity  \n",
       "2  23.507805        Normal        Normal      Normal  \n",
       "3  28.710479  Hypertension  Hypertension  Overweight  \n",
       "4  23.011177        Normal        Normal      Normal  "
      ]
     },
     "execution_count": 59,
     "metadata": {},
     "output_type": "execute_result"
    }
   ],
   "source": [
    "data.head()"
   ]
  },
  {
   "cell_type": "markdown",
   "id": "056f22e7",
   "metadata": {},
   "source": [
    "## Label Encoding:"
   ]
  },
  {
   "cell_type": "code",
   "execution_count": 60,
   "id": "4eb4a653",
   "metadata": {},
   "outputs": [],
   "source": [
    "#Encode for categorical columns\n",
    "cat_cols = ['systolic', 'diastolic', 'bmi_group']\n",
    "\n",
    "for col in cat_cols:\n",
    "    data[col] = labelencoder.fit_transform(data[col])"
   ]
  },
  {
   "cell_type": "code",
   "execution_count": 61,
   "id": "16e8be72",
   "metadata": {},
   "outputs": [
    {
     "data": {
      "text/html": [
       "<div>\n",
       "<style scoped>\n",
       "    .dataframe tbody tr th:only-of-type {\n",
       "        vertical-align: middle;\n",
       "    }\n",
       "\n",
       "    .dataframe tbody tr th {\n",
       "        vertical-align: top;\n",
       "    }\n",
       "\n",
       "    .dataframe thead th {\n",
       "        text-align: right;\n",
       "    }\n",
       "</style>\n",
       "<table border=\"1\" class=\"dataframe\">\n",
       "  <thead>\n",
       "    <tr style=\"text-align: right;\">\n",
       "      <th></th>\n",
       "      <th>age</th>\n",
       "      <th>gender</th>\n",
       "      <th>ap_hi</th>\n",
       "      <th>ap_lo</th>\n",
       "      <th>cholesterol</th>\n",
       "      <th>gluc</th>\n",
       "      <th>smoke</th>\n",
       "      <th>alco</th>\n",
       "      <th>active</th>\n",
       "      <th>cardio</th>\n",
       "      <th>bmi</th>\n",
       "      <th>systolic</th>\n",
       "      <th>diastolic</th>\n",
       "      <th>bmi_group</th>\n",
       "    </tr>\n",
       "  </thead>\n",
       "  <tbody>\n",
       "    <tr>\n",
       "      <th>187</th>\n",
       "      <td>52</td>\n",
       "      <td>1</td>\n",
       "      <td>140</td>\n",
       "      <td>80</td>\n",
       "      <td>1</td>\n",
       "      <td>1</td>\n",
       "      <td>1</td>\n",
       "      <td>0</td>\n",
       "      <td>1</td>\n",
       "      <td>1</td>\n",
       "      <td>17.306122</td>\n",
       "      <td>0</td>\n",
       "      <td>1</td>\n",
       "      <td>3</td>\n",
       "    </tr>\n",
       "    <tr>\n",
       "      <th>2730</th>\n",
       "      <td>60</td>\n",
       "      <td>0</td>\n",
       "      <td>150</td>\n",
       "      <td>100</td>\n",
       "      <td>1</td>\n",
       "      <td>1</td>\n",
       "      <td>0</td>\n",
       "      <td>0</td>\n",
       "      <td>1</td>\n",
       "      <td>1</td>\n",
       "      <td>25.781250</td>\n",
       "      <td>0</td>\n",
       "      <td>0</td>\n",
       "      <td>2</td>\n",
       "    </tr>\n",
       "    <tr>\n",
       "      <th>700</th>\n",
       "      <td>40</td>\n",
       "      <td>0</td>\n",
       "      <td>110</td>\n",
       "      <td>70</td>\n",
       "      <td>1</td>\n",
       "      <td>1</td>\n",
       "      <td>0</td>\n",
       "      <td>0</td>\n",
       "      <td>1</td>\n",
       "      <td>1</td>\n",
       "      <td>26.722873</td>\n",
       "      <td>1</td>\n",
       "      <td>1</td>\n",
       "      <td>2</td>\n",
       "    </tr>\n",
       "    <tr>\n",
       "      <th>2405</th>\n",
       "      <td>62</td>\n",
       "      <td>1</td>\n",
       "      <td>130</td>\n",
       "      <td>60</td>\n",
       "      <td>1</td>\n",
       "      <td>1</td>\n",
       "      <td>0</td>\n",
       "      <td>0</td>\n",
       "      <td>1</td>\n",
       "      <td>1</td>\n",
       "      <td>20.324438</td>\n",
       "      <td>1</td>\n",
       "      <td>1</td>\n",
       "      <td>0</td>\n",
       "    </tr>\n",
       "    <tr>\n",
       "      <th>382</th>\n",
       "      <td>54</td>\n",
       "      <td>0</td>\n",
       "      <td>140</td>\n",
       "      <td>90</td>\n",
       "      <td>3</td>\n",
       "      <td>3</td>\n",
       "      <td>0</td>\n",
       "      <td>0</td>\n",
       "      <td>1</td>\n",
       "      <td>0</td>\n",
       "      <td>27.848795</td>\n",
       "      <td>0</td>\n",
       "      <td>0</td>\n",
       "      <td>2</td>\n",
       "    </tr>\n",
       "  </tbody>\n",
       "</table>\n",
       "</div>"
      ],
      "text/plain": [
       "      age  gender  ap_hi  ap_lo  cholesterol  gluc  smoke  alco  active  \\\n",
       "187    52       1    140     80            1     1      1     0       1   \n",
       "2730   60       0    150    100            1     1      0     0       1   \n",
       "700    40       0    110     70            1     1      0     0       1   \n",
       "2405   62       1    130     60            1     1      0     0       1   \n",
       "382    54       0    140     90            3     3      0     0       1   \n",
       "\n",
       "      cardio        bmi  systolic  diastolic  bmi_group  \n",
       "187        1  17.306122         0          1          3  \n",
       "2730       1  25.781250         0          0          2  \n",
       "700        1  26.722873         1          1          2  \n",
       "2405       1  20.324438         1          1          0  \n",
       "382        0  27.848795         0          0          2  "
      ]
     },
     "execution_count": 61,
     "metadata": {},
     "output_type": "execute_result"
    }
   ],
   "source": [
    "data.sample(5)"
   ]
  },
  {
   "cell_type": "markdown",
   "id": "83dd9d7f",
   "metadata": {},
   "source": [
    "## One-Hot-Encoding:"
   ]
  },
  {
   "cell_type": "code",
   "execution_count": 62,
   "id": "766bafe8",
   "metadata": {},
   "outputs": [],
   "source": [
    "data = pd.get_dummies(data, columns=['cholesterol', 'gluc','systolic', 'diastolic', 'bmi_group'], drop_first=True)"
   ]
  },
  {
   "cell_type": "code",
   "execution_count": 63,
   "id": "b9358fc5",
   "metadata": {},
   "outputs": [
    {
     "data": {
      "text/html": [
       "<div>\n",
       "<style scoped>\n",
       "    .dataframe tbody tr th:only-of-type {\n",
       "        vertical-align: middle;\n",
       "    }\n",
       "\n",
       "    .dataframe tbody tr th {\n",
       "        vertical-align: top;\n",
       "    }\n",
       "\n",
       "    .dataframe thead th {\n",
       "        text-align: right;\n",
       "    }\n",
       "</style>\n",
       "<table border=\"1\" class=\"dataframe\">\n",
       "  <thead>\n",
       "    <tr style=\"text-align: right;\">\n",
       "      <th></th>\n",
       "      <th>age</th>\n",
       "      <th>gender</th>\n",
       "      <th>ap_hi</th>\n",
       "      <th>ap_lo</th>\n",
       "      <th>smoke</th>\n",
       "      <th>alco</th>\n",
       "      <th>active</th>\n",
       "      <th>cardio</th>\n",
       "      <th>bmi</th>\n",
       "      <th>cholesterol_2</th>\n",
       "      <th>cholesterol_3</th>\n",
       "      <th>gluc_2</th>\n",
       "      <th>gluc_3</th>\n",
       "      <th>systolic_1</th>\n",
       "      <th>diastolic_1</th>\n",
       "      <th>bmi_group_1</th>\n",
       "      <th>bmi_group_2</th>\n",
       "      <th>bmi_group_3</th>\n",
       "    </tr>\n",
       "  </thead>\n",
       "  <tbody>\n",
       "    <tr>\n",
       "      <th>1392</th>\n",
       "      <td>46</td>\n",
       "      <td>0</td>\n",
       "      <td>130</td>\n",
       "      <td>90</td>\n",
       "      <td>0</td>\n",
       "      <td>0</td>\n",
       "      <td>1</td>\n",
       "      <td>0</td>\n",
       "      <td>31.244993</td>\n",
       "      <td>0</td>\n",
       "      <td>0</td>\n",
       "      <td>0</td>\n",
       "      <td>0</td>\n",
       "      <td>1</td>\n",
       "      <td>0</td>\n",
       "      <td>1</td>\n",
       "      <td>0</td>\n",
       "      <td>0</td>\n",
       "    </tr>\n",
       "    <tr>\n",
       "      <th>4457</th>\n",
       "      <td>55</td>\n",
       "      <td>1</td>\n",
       "      <td>130</td>\n",
       "      <td>80</td>\n",
       "      <td>0</td>\n",
       "      <td>0</td>\n",
       "      <td>1</td>\n",
       "      <td>1</td>\n",
       "      <td>22.491349</td>\n",
       "      <td>0</td>\n",
       "      <td>0</td>\n",
       "      <td>0</td>\n",
       "      <td>0</td>\n",
       "      <td>1</td>\n",
       "      <td>1</td>\n",
       "      <td>0</td>\n",
       "      <td>0</td>\n",
       "      <td>0</td>\n",
       "    </tr>\n",
       "    <tr>\n",
       "      <th>4392</th>\n",
       "      <td>61</td>\n",
       "      <td>1</td>\n",
       "      <td>120</td>\n",
       "      <td>70</td>\n",
       "      <td>0</td>\n",
       "      <td>0</td>\n",
       "      <td>1</td>\n",
       "      <td>0</td>\n",
       "      <td>30.449827</td>\n",
       "      <td>0</td>\n",
       "      <td>0</td>\n",
       "      <td>0</td>\n",
       "      <td>0</td>\n",
       "      <td>1</td>\n",
       "      <td>1</td>\n",
       "      <td>1</td>\n",
       "      <td>0</td>\n",
       "      <td>0</td>\n",
       "    </tr>\n",
       "    <tr>\n",
       "      <th>651</th>\n",
       "      <td>42</td>\n",
       "      <td>1</td>\n",
       "      <td>120</td>\n",
       "      <td>80</td>\n",
       "      <td>0</td>\n",
       "      <td>0</td>\n",
       "      <td>0</td>\n",
       "      <td>0</td>\n",
       "      <td>22.758307</td>\n",
       "      <td>0</td>\n",
       "      <td>0</td>\n",
       "      <td>0</td>\n",
       "      <td>0</td>\n",
       "      <td>1</td>\n",
       "      <td>1</td>\n",
       "      <td>0</td>\n",
       "      <td>0</td>\n",
       "      <td>0</td>\n",
       "    </tr>\n",
       "    <tr>\n",
       "      <th>3573</th>\n",
       "      <td>40</td>\n",
       "      <td>1</td>\n",
       "      <td>120</td>\n",
       "      <td>80</td>\n",
       "      <td>0</td>\n",
       "      <td>0</td>\n",
       "      <td>1</td>\n",
       "      <td>1</td>\n",
       "      <td>27.440599</td>\n",
       "      <td>0</td>\n",
       "      <td>0</td>\n",
       "      <td>0</td>\n",
       "      <td>0</td>\n",
       "      <td>1</td>\n",
       "      <td>1</td>\n",
       "      <td>0</td>\n",
       "      <td>1</td>\n",
       "      <td>0</td>\n",
       "    </tr>\n",
       "  </tbody>\n",
       "</table>\n",
       "</div>"
      ],
      "text/plain": [
       "      age  gender  ap_hi  ap_lo  smoke  alco  active  cardio        bmi  \\\n",
       "1392   46       0    130     90      0     0       1       0  31.244993   \n",
       "4457   55       1    130     80      0     0       1       1  22.491349   \n",
       "4392   61       1    120     70      0     0       1       0  30.449827   \n",
       "651    42       1    120     80      0     0       0       0  22.758307   \n",
       "3573   40       1    120     80      0     0       1       1  27.440599   \n",
       "\n",
       "      cholesterol_2  cholesterol_3  gluc_2  gluc_3  systolic_1  diastolic_1  \\\n",
       "1392              0              0       0       0           1            0   \n",
       "4457              0              0       0       0           1            1   \n",
       "4392              0              0       0       0           1            1   \n",
       "651               0              0       0       0           1            1   \n",
       "3573              0              0       0       0           1            1   \n",
       "\n",
       "      bmi_group_1  bmi_group_2  bmi_group_3  \n",
       "1392            1            0            0  \n",
       "4457            0            0            0  \n",
       "4392            1            0            0  \n",
       "651             0            0            0  \n",
       "3573            0            1            0  "
      ]
     },
     "execution_count": 63,
     "metadata": {},
     "output_type": "execute_result"
    }
   ],
   "source": [
    "data.sample(5)"
   ]
  },
  {
   "cell_type": "code",
   "execution_count": 64,
   "id": "2adfc916",
   "metadata": {},
   "outputs": [
    {
     "data": {
      "image/png": "[encoded data removed]",
      "text/plain": [
       "<Figure size 640x480 with 20 Axes>"
      ]
     },
     "metadata": {},
     "output_type": "display_data"
    }
   ],
   "source": [
    "data.hist();"
   ]
  },
  {
   "cell_type": "markdown",
   "id": "05d872b7",
   "metadata": {},
   "source": [
    "# Train Test split"
   ]
  },
  {
   "cell_type": "code",
   "execution_count": 65,
   "id": "e99b5c36",
   "metadata": {},
   "outputs": [],
   "source": [
    "# Split into features and labels\n",
    "x = data.drop(['cardio'], axis=1)\n",
    "y = data['cardio']"
   ]
  },
  {
   "cell_type": "code",
   "execution_count": 66,
   "id": "5d70f396",
   "metadata": {},
   "outputs": [],
   "source": [
    "# Normalize the features\n",
    "from sklearn.preprocessing import StandardScaler\n",
    "scaler = StandardScaler()\n",
    "x = scaler.fit_transform(x)"
   ]
  },
  {
   "cell_type": "code",
   "execution_count": 67,
   "id": "1604c562",
   "metadata": {},
   "outputs": [],
   "source": [
    "from sklearn.model_selection import train_test_split,GridSearchCV\n",
    "# Split the data into training and testing sets\n",
    "x_train, x_test, y_train, y_test = train_test_split(x, y, test_size=0.25, random_state=42)"
   ]
  },
  {
   "cell_type": "code",
   "execution_count": 68,
   "id": "7b29dd55",
   "metadata": {},
   "outputs": [
    {
     "data": {
      "text/plain": [
       "(3300, 17)"
      ]
     },
     "execution_count": 68,
     "metadata": {},
     "output_type": "execute_result"
    }
   ],
   "source": [
    "\n",
    "x_test.shape\n",
    "x_train.shape"
   ]
  },
  {
   "cell_type": "code",
   "execution_count": 69,
   "id": "1b375f9f",
   "metadata": {},
   "outputs": [
    {
     "data": {
      "text/plain": [
       "(1101,)"
      ]
     },
     "execution_count": 69,
     "metadata": {},
     "output_type": "execute_result"
    }
   ],
   "source": [
    "y_train.shape\n",
    "y_test.shape"
   ]
  },
  {
   "cell_type": "markdown",
   "id": "3c7e06e1",
   "metadata": {},
   "source": [
    "# logistic regression"
   ]
  },
  {
   "cell_type": "code",
   "execution_count": 70,
   "id": "db945984",
   "metadata": {},
   "outputs": [
    {
     "name": "stdout",
     "output_type": "stream",
     "text": [
      "{'C': 1.0, 'penalty': 'l2', 'solver': 'liblinear'}\n"
     ]
    }
   ],
   "source": [
    "log_reg = LogisticRegression(class_weight='balanced')\n",
    "param_grid={\n",
    "    'C': [0.01, 0.1, 1.0, 10, 100],\n",
    "    'penalty': ['none', 'l1', 'l2', 'elasticnet'],\n",
    "    'solver': ['newton-cg', 'lbfgs', 'liblinear', 'sag', 'saga']\n",
    "}\n",
    "\n",
    "# perform grid search with cross-validation to obtain the best hyperparameters\n",
    "grid_search = GridSearchCV(log_reg, param_grid, cv=5)\n",
    "grid_search.fit(x_train, y_train)\n",
    "\n",
    "#print the best hyperparameters\n",
    "print(grid_search.best_params_)\n"
   ]
  },
  {
   "cell_type": "code",
   "execution_count": 71,
   "id": "5d3e4be5",
   "metadata": {},
   "outputs": [
    {
     "data": {
      "text/plain": [
       "array([0, 1, 0, ..., 0, 0, 0], dtype=int64)"
      ]
     },
     "execution_count": 71,
     "metadata": {},
     "output_type": "execute_result"
    }
   ],
   "source": [
    "#instantiate, fit, and predict with the logistic regression\n",
    "log_reg = LogisticRegression(C=.01, penalty='l2', solver='liblinear', class_weight='balanced')\n",
    "log_reg.fit(x_train, y_train)\n",
    "y_pred_lr = log_reg.predict(x_test)\n",
    "y_pred_lr"
   ]
  },
  {
   "cell_type": "code",
   "execution_count": 72,
   "id": "e3d21eab",
   "metadata": {},
   "outputs": [
    {
     "data": {
      "text/plain": [
       "73.84"
      ]
     },
     "execution_count": 72,
     "metadata": {},
     "output_type": "execute_result"
    }
   ],
   "source": [
    "#check for the accuracy score of the log_reg\n",
    "score_log_reg = round(accuracy_score(y_test, y_pred_lr)*100,2)\n",
    "score_log_reg"
   ]
  },
  {
   "cell_type": "code",
   "execution_count": 73,
   "id": "42059a82",
   "metadata": {},
   "outputs": [
    {
     "name": "stdout",
     "output_type": "stream",
     "text": [
      "The accuracy score achieved using Logistic regression is: 73.84 %\n"
     ]
    }
   ],
   "source": [
    "print(\"The accuracy score achieved using Logistic regression is: \"+str(score_log_reg)+\" %\")"
   ]
  },
  {
   "cell_type": "code",
   "execution_count": 74,
   "id": "0be582c7",
   "metadata": {},
   "outputs": [
    {
     "data": {
      "text/plain": [
       "0.7236363636363636"
      ]
     },
     "execution_count": 74,
     "metadata": {},
     "output_type": "execute_result"
    }
   ],
   "source": [
    "#evaluate and print the train set accuracy\n",
    "log_reg_train_accuracy = log_reg.score(x_train, y_train)\n",
    "log_reg_train_accuracy"
   ]
  },
  {
   "cell_type": "code",
   "execution_count": 75,
   "id": "e1f6c56f",
   "metadata": {},
   "outputs": [
    {
     "data": {
      "text/plain": [
       "0.7384196185286104"
      ]
     },
     "execution_count": 75,
     "metadata": {},
     "output_type": "execute_result"
    }
   ],
   "source": [
    "#evaluate and print the test set accuracy\n",
    "log_reg_test_accuracy = log_reg.score(x_test, y_test)\n",
    "log_reg_test_accuracy"
   ]
  },
  {
   "cell_type": "markdown",
   "id": "7cb6aad1",
   "metadata": {},
   "source": [
    "# SVM"
   ]
  },
  {
   "cell_type": "code",
   "execution_count": 76,
   "id": "312737b6",
   "metadata": {},
   "outputs": [],
   "source": [
    "from sklearn import svm\n",
    "\n",
    "sv = svm.SVC(kernel='linear')\n",
    "# from sklearn.svm import SVC\n",
    "# sv = SVC()\n",
    "sv.fit(x_train, y_train)\n",
    "\n",
    "y_pred_svm = sv.predict(x_test)"
   ]
  },
  {
   "cell_type": "code",
   "execution_count": 77,
   "id": "26f9e9e6",
   "metadata": {},
   "outputs": [
    {
     "data": {
      "text/plain": [
       "(1101,)"
      ]
     },
     "execution_count": 77,
     "metadata": {},
     "output_type": "execute_result"
    }
   ],
   "source": [
    "y_pred_svm.shape"
   ]
  },
  {
   "cell_type": "code",
   "execution_count": 78,
   "id": "a2eed15f",
   "metadata": {},
   "outputs": [
    {
     "name": "stdout",
     "output_type": "stream",
     "text": [
      "The accuracy score achieved using Linear SVM is: 73.48 %\n"
     ]
    }
   ],
   "source": [
    "score_svm = round(accuracy_score(y_pred_svm,y_test)*100,2)\n",
    "\n",
    "print(\"The accuracy score achieved using Linear SVM is: \"+str(score_svm)+\" %\")"
   ]
  },
  {
   "cell_type": "code",
   "execution_count": 79,
   "id": "d14557ed",
   "metadata": {},
   "outputs": [
    {
     "data": {
      "text/plain": [
       "0.7106060606060606"
      ]
     },
     "execution_count": 79,
     "metadata": {},
     "output_type": "execute_result"
    }
   ],
   "source": [
    "#evaluate and print the train set accuracy\n",
    "svm_train_accuracy = sv.score(x_train, y_train)\n",
    "svm_train_accuracy"
   ]
  },
  {
   "cell_type": "code",
   "execution_count": 80,
   "id": "cbab503e",
   "metadata": {},
   "outputs": [
    {
     "data": {
      "text/plain": [
       "0.734786557674841"
      ]
     },
     "execution_count": 80,
     "metadata": {},
     "output_type": "execute_result"
    }
   ],
   "source": [
    "#evaluate and print the test set accuracy\n",
    "svm_test_accuracy = sv.score(x_test, y_test)\n",
    "svm_test_accuracy"
   ]
  },
  {
   "cell_type": "markdown",
   "id": "77784cae",
   "metadata": {},
   "source": [
    "# K Nearest Neighbors"
   ]
  },
  {
   "cell_type": "code",
   "execution_count": 81,
   "id": "6653ed38",
   "metadata": {},
   "outputs": [],
   "source": [
    "from sklearn.neighbors import KNeighborsClassifier\n",
    "\n",
    "knn = KNeighborsClassifier(n_neighbors=7)\n",
    "knn.fit(x_train,y_train)\n",
    "y_pred_knn=knn.predict(x_test)"
   ]
  },
  {
   "cell_type": "code",
   "execution_count": 82,
   "id": "6442044f",
   "metadata": {},
   "outputs": [
    {
     "data": {
      "text/plain": [
       "(1101,)"
      ]
     },
     "execution_count": 82,
     "metadata": {},
     "output_type": "execute_result"
    }
   ],
   "source": [
    "y_pred_knn.shape"
   ]
  },
  {
   "cell_type": "code",
   "execution_count": 83,
   "id": "b01424a2",
   "metadata": {},
   "outputs": [
    {
     "name": "stdout",
     "output_type": "stream",
     "text": [
      "The accuracy score achieved using KNN is: 71.66 %\n"
     ]
    }
   ],
   "source": [
    "score_knn = round(accuracy_score(y_pred_knn,y_test)*100,2)\n",
    "\n",
    "print(\"The accuracy score achieved using KNN is: \"+str(score_knn)+\" %\")"
   ]
  },
  {
   "cell_type": "code",
   "execution_count": 84,
   "id": "63e85850",
   "metadata": {},
   "outputs": [
    {
     "data": {
      "text/plain": [
       "0.7527272727272727"
      ]
     },
     "execution_count": 84,
     "metadata": {},
     "output_type": "execute_result"
    }
   ],
   "source": [
    "#evaluate and print the train set accuracy\n",
    "knn_train_accuracy = knn.score(x_train, y_train)\n",
    "knn_train_accuracy"
   ]
  },
  {
   "cell_type": "code",
   "execution_count": 85,
   "id": "b564a4f7",
   "metadata": {},
   "outputs": [
    {
     "data": {
      "text/plain": [
       "0.7166212534059946"
      ]
     },
     "execution_count": 85,
     "metadata": {},
     "output_type": "execute_result"
    }
   ],
   "source": [
    "#evaluate and print the test set accuracy\n",
    "knn_test_accuracy = knn.score(x_test, y_test)\n",
    "knn_test_accuracy"
   ]
  },
  {
   "cell_type": "markdown",
   "id": "7005c38a",
   "metadata": {},
   "source": [
    "# Naive Bayes"
   ]
  },
  {
   "cell_type": "code",
   "execution_count": 86,
   "id": "1bfeeaf9",
   "metadata": {},
   "outputs": [],
   "source": [
    "from sklearn.naive_bayes import GaussianNB\n",
    "\n",
    "nb = GaussianNB()\n",
    "\n",
    "nb.fit(x_train,y_train)\n",
    "\n",
    "y_pred_nb = nb.predict(x_test)"
   ]
  },
  {
   "cell_type": "code",
   "execution_count": 87,
   "id": "5db62d44",
   "metadata": {},
   "outputs": [
    {
     "data": {
      "text/plain": [
       "(1101,)"
      ]
     },
     "execution_count": 87,
     "metadata": {},
     "output_type": "execute_result"
    }
   ],
   "source": [
    "y_pred_nb.shape"
   ]
  },
  {
   "cell_type": "code",
   "execution_count": 88,
   "id": "0ab49d01",
   "metadata": {},
   "outputs": [
    {
     "name": "stdout",
     "output_type": "stream",
     "text": [
      "The accuracy score achieved using Naive Bayes is: 73.93 %\n"
     ]
    }
   ],
   "source": [
    "score_nb = round(accuracy_score(y_pred_nb,y_test)*100,2)\n",
    "\n",
    "print(\"The accuracy score achieved using Naive Bayes is: \"+str(score_nb)+\" %\")"
   ]
  },
  {
   "cell_type": "code",
   "execution_count": 89,
   "id": "e03682b9",
   "metadata": {},
   "outputs": [
    {
     "data": {
      "text/plain": [
       "0.7145454545454546"
      ]
     },
     "execution_count": 89,
     "metadata": {},
     "output_type": "execute_result"
    }
   ],
   "source": [
    "#evaluate and print the train set accuracy\n",
    "nb_train_accuracy = nb.score(x_train, y_train)\n",
    "nb_train_accuracy"
   ]
  },
  {
   "cell_type": "code",
   "execution_count": 90,
   "id": "76cae06b",
   "metadata": {},
   "outputs": [
    {
     "data": {
      "text/plain": [
       "0.7393278837420527"
      ]
     },
     "execution_count": 90,
     "metadata": {},
     "output_type": "execute_result"
    }
   ],
   "source": [
    "#evaluate and print the test set accuracy\n",
    "nb_test_accuracy = nb.score(x_test, y_test)\n",
    "nb_test_accuracy"
   ]
  },
  {
   "cell_type": "markdown",
   "id": "c48f18f5",
   "metadata": {},
   "source": [
    "# Decision Tree"
   ]
  },
  {
   "cell_type": "markdown",
   "id": "c288f648",
   "metadata": {},
   "source": [
    "### Let's perform hyperparameter tuning for our Decision Tree model:"
   ]
  },
  {
   "cell_type": "code",
   "execution_count": 91,
   "id": "419042a0",
   "metadata": {},
   "outputs": [
    {
     "name": "stdout",
     "output_type": "stream",
     "text": [
      "{'max_depth': 3, 'min_samples_leaf': 1, 'min_samples_split': 2, 'random_state': 0}\n"
     ]
    }
   ],
   "source": [
    "dt = DecisionTreeClassifier(class_weight='balanced')\n",
    "param_grid = {\n",
    "    'max_depth': [3,4,5,6,7,8],\n",
    "    'min_samples_split': [2,3,4],\n",
    "    'min_samples_leaf': [1,2,3,4],\n",
    "    'random_state':[0, 42]\n",
    "}\n",
    "\n",
    "#perform grid search with cross-validation to obtain the best hyperparameters\n",
    "grid_search = GridSearchCV(dt, param_grid, cv=5)\n",
    "grid_search.fit(x_train, y_train)\n",
    "\n",
    "#print the best hyperparameters\n",
    "print(grid_search.best_params_)"
   ]
  },
  {
   "cell_type": "code",
   "execution_count": 92,
   "id": "7b9423ac",
   "metadata": {},
   "outputs": [],
   "source": [
    "#instantiate, fit, and predict with DecisionTreeClassifier\n",
    "dt = DecisionTreeClassifier(max_depth=3, min_samples_leaf=4, min_samples_split=2, random_state=0)\n",
    "dt.fit(x_train, y_train)\n",
    "y_pred_dt = dt.predict(x_test)"
   ]
  },
  {
   "cell_type": "code",
   "execution_count": 93,
   "id": "27b5a7b3",
   "metadata": {},
   "outputs": [
    {
     "data": {
      "text/plain": [
       "73.39"
      ]
     },
     "execution_count": 93,
     "metadata": {},
     "output_type": "execute_result"
    }
   ],
   "source": [
    "#check for the accuracy score of the dt\n",
    "score_dt = round(accuracy_score(y_test, y_pred_dt)*100,2)\n",
    "score_dt"
   ]
  },
  {
   "cell_type": "code",
   "execution_count": 94,
   "id": "cb59de51",
   "metadata": {},
   "outputs": [
    {
     "name": "stdout",
     "output_type": "stream",
     "text": [
      "The accuracy score achieved using Decision tree is: 73.39 %\n"
     ]
    }
   ],
   "source": [
    "print(\"The accuracy score achieved using Decision tree is: \"+str(score_dt)+\" %\")"
   ]
  },
  {
   "cell_type": "code",
   "execution_count": 95,
   "id": "a67ec10b",
   "metadata": {},
   "outputs": [
    {
     "data": {
      "text/plain": [
       "0.7121212121212122"
      ]
     },
     "execution_count": 95,
     "metadata": {},
     "output_type": "execute_result"
    }
   ],
   "source": [
    "#evaluate and print the train set accuracy\n",
    "dt_train_accuracy = dt.score(x_train, y_train)\n",
    "dt_train_accuracy"
   ]
  },
  {
   "cell_type": "code",
   "execution_count": 96,
   "id": "506d3895",
   "metadata": {},
   "outputs": [
    {
     "data": {
      "text/plain": [
       "0.7338782924613987"
      ]
     },
     "execution_count": 96,
     "metadata": {},
     "output_type": "execute_result"
    }
   ],
   "source": [
    "#evaluate and print the test set accuracy\n",
    "dt_test_accuracy = dt.score(x_test, y_test)\n",
    "dt_test_accuracy"
   ]
  },
  {
   "cell_type": "markdown",
   "id": "85b0bd22",
   "metadata": {},
   "source": [
    "# Random Forest"
   ]
  },
  {
   "cell_type": "code",
   "execution_count": 97,
   "id": "c5b0ee8e",
   "metadata": {},
   "outputs": [
    {
     "name": "stdout",
     "output_type": "stream",
     "text": [
      "{'max_depth': 5, 'max_features': 'sqrt', 'n_estimators': 100, 'random_state': 0}\n"
     ]
    }
   ],
   "source": [
    "rfc = RandomForestClassifier(class_weight='balanced')\n",
    "param_grid={\n",
    "    'n_estimators': [100, 200],\n",
    "    'max_depth': [None, 5, 10],\n",
    "    'max_features': ['sqrt', 'log2', None],\n",
    "    'random_state': [0, 42]\n",
    "}\n",
    "\n",
    "#perform grid search with cross-validation to obtain the best hyperparameters\n",
    "grid_search = GridSearchCV(rfc, param_grid, cv=5)\n",
    "grid_search.fit(x_train, y_train)\n",
    "\n",
    "#print the best hyperparameters\n",
    "print(grid_search.best_params_)"
   ]
  },
  {
   "cell_type": "code",
   "execution_count": 98,
   "id": "fe703716",
   "metadata": {},
   "outputs": [],
   "source": [
    "#instantiate, fit, and predict with Random Forest Classifier\n",
    "rfc = RandomForestClassifier(max_depth=10, max_features='sqrt', n_estimators=200, random_state=42, class_weight='balanced')\n",
    "rfc.fit(x_train, y_train)\n",
    "y_pred_rfc = rfc.predict(x_test)"
   ]
  },
  {
   "cell_type": "code",
   "execution_count": 99,
   "id": "7d0261f3",
   "metadata": {},
   "outputs": [
    {
     "data": {
      "text/plain": [
       "74.57"
      ]
     },
     "execution_count": 99,
     "metadata": {},
     "output_type": "execute_result"
    }
   ],
   "source": [
    "#check for the accuracy score of the dt\n",
    "score_rfc = round(accuracy_score(y_test, y_pred_rfc)*100,2)\n",
    "score_rfc"
   ]
  },
  {
   "cell_type": "code",
   "execution_count": 100,
   "id": "b2be9703",
   "metadata": {},
   "outputs": [
    {
     "name": "stdout",
     "output_type": "stream",
     "text": [
      "The accuracy score achieved using RandomForest is: 74.57 %\n"
     ]
    }
   ],
   "source": [
    "print(\"The accuracy score achieved using RandomForest is: \"+str(score_rfc)+\" %\")"
   ]
  },
  {
   "cell_type": "code",
   "execution_count": 101,
   "id": "5fcd8d1f",
   "metadata": {},
   "outputs": [
    {
     "data": {
      "text/plain": [
       "0.8115151515151515"
      ]
     },
     "execution_count": 101,
     "metadata": {},
     "output_type": "execute_result"
    }
   ],
   "source": [
    "#evaluate and print the train set accuracy\n",
    "rfc_train_accuracy = rfc.score(x_train, y_train)\n",
    "rfc_train_accuracy"
   ]
  },
  {
   "cell_type": "code",
   "execution_count": 102,
   "id": "0593fa1d",
   "metadata": {},
   "outputs": [
    {
     "data": {
      "text/plain": [
       "0.745685740236149"
      ]
     },
     "execution_count": 102,
     "metadata": {},
     "output_type": "execute_result"
    }
   ],
   "source": [
    "#evaluate and print the test set accuracy\n",
    "rfc_test_accuracy = rfc.score(x_test, y_test)\n",
    "rfc_test_accuracy"
   ]
  },
  {
   "cell_type": "markdown",
   "id": "77a31b38",
   "metadata": {},
   "source": [
    "## Now, let's compare the accuracy of the three models we've deployed:"
   ]
  },
  {
   "cell_type": "code",
   "execution_count": 103,
   "id": "5e1983fe",
   "metadata": {},
   "outputs": [
    {
     "name": "stdout",
     "output_type": "stream",
     "text": [
      "The accuracy score achieved using Logistic Regression is: 73.84 %\n",
      "The accuracy score achieved using Naive Bayes is: 73.93 %\n",
      "The accuracy score achieved using Support Vector Machine is: 73.48 %\n",
      "The accuracy score achieved using K-Nearest Neighbors is: 71.66 %\n",
      "The accuracy score achieved using Decision Tree is: 73.39 %\n",
      "The accuracy score achieved using Random Forest is: 74.57 %\n"
     ]
    }
   ],
   "source": [
    "scores = [score_log_reg,score_nb,score_svm,score_knn,score_dt,score_rfc]\n",
    "algorithms = [\"Logistic Regression\",\"Naive Bayes\",\"Support Vector Machine\",\"K-Nearest Neighbors\",\"Decision Tree\",\"Random Forest\"]    \n",
    "\n",
    "for i in range(len(algorithms)):\n",
    "    print(\"The accuracy score achieved using \"+algorithms[i]+\" is: \"+str(scores[i])+\" %\")"
   ]
  },
  {
   "cell_type": "code",
   "execution_count": 104,
   "id": "8181d07a",
   "metadata": {},
   "outputs": [
    {
     "data": {
      "text/plain": [
       "<AxesSubplot:xlabel='Algorithms', ylabel='Accuracy score'>"
      ]
     },
     "execution_count": 104,
     "metadata": {},
     "output_type": "execute_result"
    },
    {
     "data": {
      "image/png": "[encoded data removed]",
      "text/plain": [
       "<Figure size 1500x800 with 1 Axes>"
      ]
     },
     "metadata": {},
     "output_type": "display_data"
    }
   ],
   "source": [
    "sns.set(rc={'figure.figsize':(15,8)})\n",
    "plt.xlabel(\"Algorithms\")\n",
    "plt.ylabel(\"Accuracy score\")\n",
    "\n",
    "sns.barplot(algorithms,scores)\n"
   ]
  },
  {
   "cell_type": "code",
   "execution_count": 116,
   "id": "9278444d",
   "metadata": {},
   "outputs": [],
   "source": [
    "models = pd.DataFrame({\n",
    "    'Algorithms' : [\"Logistic Regression\",\"Naive Bayes\",\"Support Vector Machine\",\"K-Nearest Neighbors\",\"Decision Tree\",\"Random Forest\"]    ,\n",
    "    'Score_train': [log_reg_train_accuracy,nb_train_accuracy,svm_train_accuracy,knn_train_accuracy,dt_train_accuracy,rfc_train_accuracy],\n",
    "    'Score_test': [log_reg_test_accuracy,nb_test_accuracy,svm_test_accuracy,knn_test_accuracy,dt_test_accuracy,rfc_test_accuracy],\n",
    "                    })"
   ]
  },
  {
   "cell_type": "code",
   "execution_count": 117,
   "id": "72750b40",
   "metadata": {},
   "outputs": [
    {
     "data": {
      "text/html": [
       "<div>\n",
       "<style scoped>\n",
       "    .dataframe tbody tr th:only-of-type {\n",
       "        vertical-align: middle;\n",
       "    }\n",
       "\n",
       "    .dataframe tbody tr th {\n",
       "        vertical-align: top;\n",
       "    }\n",
       "\n",
       "    .dataframe thead th {\n",
       "        text-align: right;\n",
       "    }\n",
       "</style>\n",
       "<table border=\"1\" class=\"dataframe\">\n",
       "  <thead>\n",
       "    <tr style=\"text-align: right;\">\n",
       "      <th></th>\n",
       "      <th>Algorithms</th>\n",
       "      <th>Score_train</th>\n",
       "      <th>Score_test</th>\n",
       "    </tr>\n",
       "  </thead>\n",
       "  <tbody>\n",
       "    <tr>\n",
       "      <th>5</th>\n",
       "      <td>Random Forest</td>\n",
       "      <td>0.811515</td>\n",
       "      <td>0.745686</td>\n",
       "    </tr>\n",
       "    <tr>\n",
       "      <th>3</th>\n",
       "      <td>K-Nearest Neighbors</td>\n",
       "      <td>0.752727</td>\n",
       "      <td>0.716621</td>\n",
       "    </tr>\n",
       "    <tr>\n",
       "      <th>0</th>\n",
       "      <td>Logistic Regression</td>\n",
       "      <td>0.723636</td>\n",
       "      <td>0.738420</td>\n",
       "    </tr>\n",
       "    <tr>\n",
       "      <th>1</th>\n",
       "      <td>Naive Bayes</td>\n",
       "      <td>0.714545</td>\n",
       "      <td>0.739328</td>\n",
       "    </tr>\n",
       "    <tr>\n",
       "      <th>4</th>\n",
       "      <td>Decision Tree</td>\n",
       "      <td>0.712121</td>\n",
       "      <td>0.733878</td>\n",
       "    </tr>\n",
       "    <tr>\n",
       "      <th>2</th>\n",
       "      <td>Support Vector Machine</td>\n",
       "      <td>0.710606</td>\n",
       "      <td>0.734787</td>\n",
       "    </tr>\n",
       "  </tbody>\n",
       "</table>\n",
       "</div>"
      ],
      "text/plain": [
       "               Algorithms  Score_train  Score_test\n",
       "5           Random Forest     0.811515    0.745686\n",
       "3     K-Nearest Neighbors     0.752727    0.716621\n",
       "0     Logistic Regression     0.723636    0.738420\n",
       "1             Naive Bayes     0.714545    0.739328\n",
       "4           Decision Tree     0.712121    0.733878\n",
       "2  Support Vector Machine     0.710606    0.734787"
      ]
     },
     "execution_count": 117,
     "metadata": {},
     "output_type": "execute_result"
    }
   ],
   "source": [
    "models.sort_values(by=['Score_train', 'Score_test'], ascending=False)"
   ]
  },
  {
   "cell_type": "markdown",
   "id": "3ea0d501",
   "metadata": {},
   "source": [
    "### Hey there random forest has good result as compare to other algorithms"
   ]
  },
  {
   "cell_type": "markdown",
   "id": "df145c35",
   "metadata": {},
   "source": [
    "### Model should have better test_score than train score,then only it is considered as good  <br> <br>"
   ]
  }
 ],
 "metadata": {
  "kernelspec": {
   "display_name": "Python 3 (ipykernel)",
   "language": "python",
   "name": "python3"
  },
  "language_info": {
   "codemirror_mode": {
    "name": "ipython",
    "version": 3
   },
   "file_extension": ".py",
   "mimetype": "text/x-python",
   "name": "python",
   "nbconvert_exporter": "python",
   "pygments_lexer": "ipython3",
   "version": "3.9.13"
  }
 },
 "nbformat": 4,
 "nbformat_minor": 5
}
